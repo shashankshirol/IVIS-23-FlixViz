{
 "cells": [
  {
   "cell_type": "code",
   "execution_count": 1,
   "metadata": {},
   "outputs": [],
   "source": [
    "from bs4 import BeautifulSoup\n",
    "import pandas as pd\n",
    "import numpy as np\n",
    "import requests\n",
    "import yaml"
   ]
  },
  {
   "cell_type": "code",
   "execution_count": 2,
   "metadata": {},
   "outputs": [],
   "source": [
    "with open(\"../api_constants.yaml\") as f:\n",
    "    api_constants = yaml.load(f, Loader=yaml.FullLoader)\n",
    "\n",
    "rapidapi = api_constants[\"RapidAPI\"]"
   ]
  },
  {
   "cell_type": "code",
   "execution_count": 3,
   "metadata": {},
   "outputs": [],
   "source": [
    "df = pd.read_pickle(\"../Data/netflix-data-complete.pickle\")\n"
   ]
  },
  {
   "cell_type": "code",
   "execution_count": 4,
   "metadata": {},
   "outputs": [],
   "source": [
    "def pull(nfid):\n",
    "    endpoint = \"titlegenres\"\n",
    "    url = rapidapi[\"URL\"] + endpoint\n",
    "    querystring = {\"netflixid\":str(nfid)}\n",
    "    headers = {\n",
    "        \"X-RapidAPI-Key\": rapidapi[\"RapidAPI-JEFF-KEY\"],\n",
    "        \"X-RapidAPI-Host\": rapidapi[\"RapidAPI-Host\"],\n",
    "    }\n",
    "    response = requests.request(\"GET\", url, headers=headers, params=querystring)\n",
    "    return response"
   ]
  },
  {
   "cell_type": "code",
   "execution_count": 5,
   "metadata": {},
   "outputs": [],
   "source": [
    "cols = [\"nfid\", \"genre\", \"nfid_genre\"]\n",
    "res_df = pd.DataFrame(columns=cols)"
   ]
  },
  {
   "cell_type": "code",
   "execution_count": 6,
   "metadata": {},
   "outputs": [
    {
     "name": "stderr",
     "output_type": "stream",
     "text": [
      "  1%|          | 175/17850 [01:33<3:20:14,  1.47it/s]"
     ]
    },
    {
     "name": "stdout",
     "output_type": "stream",
     "text": [
      "81434745\n"
     ]
    },
    {
     "name": "stderr",
     "output_type": "stream",
     "text": [
      "  6%|▌         | 986/17850 [07:52<2:28:43,  1.89it/s]"
     ]
    },
    {
     "name": "stdout",
     "output_type": "stream",
     "text": [
      "81648103\n"
     ]
    },
    {
     "name": "stderr",
     "output_type": "stream",
     "text": [
      "  9%|▉         | 1581/17850 [11:38<1:45:58,  2.56it/s]"
     ]
    },
    {
     "name": "stdout",
     "output_type": "stream",
     "text": [
      "81499674\n"
     ]
    },
    {
     "name": "stderr",
     "output_type": "stream",
     "text": [
      "  9%|▉         | 1582/17850 [11:38<1:41:28,  2.67it/s]"
     ]
    },
    {
     "name": "stdout",
     "output_type": "stream",
     "text": [
      "81054853\n"
     ]
    },
    {
     "name": "stderr",
     "output_type": "stream",
     "text": [
      "  9%|▉         | 1598/17850 [11:44<1:37:10,  2.79it/s]"
     ]
    },
    {
     "name": "stdout",
     "output_type": "stream",
     "text": [
      "81307987\n"
     ]
    },
    {
     "name": "stderr",
     "output_type": "stream",
     "text": [
      " 12%|█▏        | 2220/17850 [15:32<1:28:17,  2.95it/s]"
     ]
    },
    {
     "name": "stdout",
     "output_type": "stream",
     "text": [
      "81604129\n"
     ]
    },
    {
     "name": "stderr",
     "output_type": "stream",
     "text": [
      " 16%|█▋        | 2908/17850 [19:39<1:32:12,  2.70it/s]"
     ]
    },
    {
     "name": "stdout",
     "output_type": "stream",
     "text": [
      "81458920\n"
     ]
    },
    {
     "name": "stderr",
     "output_type": "stream",
     "text": [
      " 17%|█▋        | 3042/17850 [20:27<1:23:22,  2.96it/s]"
     ]
    },
    {
     "name": "stdout",
     "output_type": "stream",
     "text": [
      "81410058\n"
     ]
    },
    {
     "name": "stderr",
     "output_type": "stream",
     "text": [
      " 17%|█▋        | 3113/17850 [20:52<1:25:08,  2.88it/s]"
     ]
    },
    {
     "name": "stdout",
     "output_type": "stream",
     "text": [
      "81435884\n"
     ]
    },
    {
     "name": "stderr",
     "output_type": "stream",
     "text": [
      " 24%|██▍       | 4265/17850 [28:00<1:17:49,  2.91it/s]"
     ]
    },
    {
     "name": "stdout",
     "output_type": "stream",
     "text": [
      "81425229\n"
     ]
    },
    {
     "name": "stderr",
     "output_type": "stream",
     "text": [
      " 36%|███▌      | 6369/17850 [43:58<1:42:02,  1.88it/s]"
     ]
    },
    {
     "name": "stdout",
     "output_type": "stream",
     "text": [
      "16910932\n"
     ]
    },
    {
     "name": "stderr",
     "output_type": "stream",
     "text": [
      " 43%|████▎     | 7726/17850 [55:49<1:01:12,  2.76it/s]"
     ]
    },
    {
     "name": "stdout",
     "output_type": "stream",
     "text": [
      "81406611\n"
     ]
    },
    {
     "name": "stderr",
     "output_type": "stream",
     "text": [
      " 54%|█████▍    | 9712/17850 [1:08:12<49:08,  2.76it/s]  "
     ]
    },
    {
     "name": "stdout",
     "output_type": "stream",
     "text": [
      "81168900\n"
     ]
    },
    {
     "name": "stderr",
     "output_type": "stream",
     "text": [
      " 63%|██████▎   | 11244/17850 [1:17:24<45:26,  2.42it/s]  "
     ]
    },
    {
     "name": "stdout",
     "output_type": "stream",
     "text": [
      "81092855\n"
     ]
    },
    {
     "name": "stderr",
     "output_type": "stream",
     "text": [
      " 65%|██████▌   | 11615/17850 [1:19:41<33:57,  3.06it/s]  "
     ]
    },
    {
     "name": "stdout",
     "output_type": "stream",
     "text": [
      "81027766\n"
     ]
    },
    {
     "name": "stderr",
     "output_type": "stream",
     "text": [
      " 65%|██████▌   | 11664/17850 [1:19:57<34:29,  2.99it/s]"
     ]
    },
    {
     "name": "stdout",
     "output_type": "stream",
     "text": [
      "81043668\n"
     ]
    },
    {
     "name": "stderr",
     "output_type": "stream",
     "text": [
      " 66%|██████▌   | 11815/17850 [1:20:49<33:47,  2.98it/s]"
     ]
    },
    {
     "name": "stdout",
     "output_type": "stream",
     "text": [
      "80994923\n"
     ]
    },
    {
     "name": "stderr",
     "output_type": "stream",
     "text": [
      " 68%|██████▊   | 12210/17850 [1:23:17<35:02,  2.68it/s]  "
     ]
    },
    {
     "name": "stdout",
     "output_type": "stream",
     "text": [
      "80994916\n"
     ]
    },
    {
     "name": "stderr",
     "output_type": "stream",
     "text": [
      " 70%|██████▉   | 12459/17850 [1:24:55<32:45,  2.74it/s]  "
     ]
    },
    {
     "name": "stdout",
     "output_type": "stream",
     "text": [
      "81014625\n"
     ]
    },
    {
     "name": "stderr",
     "output_type": "stream",
     "text": [
      " 70%|██████▉   | 12474/17850 [1:25:00<31:07,  2.88it/s]"
     ]
    },
    {
     "name": "stdout",
     "output_type": "stream",
     "text": [
      "81002875\n"
     ]
    },
    {
     "name": "stderr",
     "output_type": "stream",
     "text": [
      " 72%|███████▏  | 12859/17850 [1:27:31<32:46,  2.54it/s]  "
     ]
    },
    {
     "name": "stdout",
     "output_type": "stream",
     "text": [
      "80987558\n"
     ]
    },
    {
     "name": "stderr",
     "output_type": "stream",
     "text": [
      " 75%|███████▌  | 13473/17850 [1:31:12<25:39,  2.84it/s]"
     ]
    },
    {
     "name": "stdout",
     "output_type": "stream",
     "text": [
      "80192947\n"
     ]
    },
    {
     "name": "stderr",
     "output_type": "stream",
     "text": [
      " 76%|███████▌  | 13597/17850 [1:31:54<24:48,  2.86it/s]"
     ]
    },
    {
     "name": "stdout",
     "output_type": "stream",
     "text": [
      "80186968\n"
     ]
    },
    {
     "name": "stderr",
     "output_type": "stream",
     "text": [
      " 78%|███████▊  | 13893/17850 [1:33:38<23:38,  2.79it/s]"
     ]
    },
    {
     "name": "stdout",
     "output_type": "stream",
     "text": [
      "80176842\n"
     ]
    },
    {
     "name": "stderr",
     "output_type": "stream",
     "text": [
      " 79%|███████▉  | 14112/17850 [1:34:59<23:23,  2.66it/s]"
     ]
    },
    {
     "name": "stdout",
     "output_type": "stream",
     "text": [
      "80156943\n"
     ]
    },
    {
     "name": "stderr",
     "output_type": "stream",
     "text": [
      " 80%|████████  | 14330/17850 [1:36:22<22:30,  2.61it/s]"
     ]
    },
    {
     "name": "stdout",
     "output_type": "stream",
     "text": [
      "80135640\n"
     ]
    },
    {
     "name": "stderr",
     "output_type": "stream",
     "text": [
      " 83%|████████▎ | 14867/17850 [1:39:35<16:14,  3.06it/s]"
     ]
    },
    {
     "name": "stdout",
     "output_type": "stream",
     "text": [
      "80071084\n"
     ]
    },
    {
     "name": "stderr",
     "output_type": "stream",
     "text": [
      " 85%|████████▍ | 15106/17850 [1:40:59<15:55,  2.87it/s]"
     ]
    },
    {
     "name": "stdout",
     "output_type": "stream",
     "text": [
      "654901\n"
     ]
    },
    {
     "name": "stderr",
     "output_type": "stream",
     "text": [
      " 86%|████████▌ | 15289/17850 [1:42:07<14:35,  2.93it/s]"
     ]
    },
    {
     "name": "stdout",
     "output_type": "stream",
     "text": [
      "80018758\n"
     ]
    },
    {
     "name": "stderr",
     "output_type": "stream",
     "text": [
      " 88%|████████▊ | 15771/17850 [1:45:01<12:13,  2.84it/s]"
     ]
    },
    {
     "name": "stdout",
     "output_type": "stream",
     "text": [
      "80022276\n"
     ]
    },
    {
     "name": "stderr",
     "output_type": "stream",
     "text": [
      " 89%|████████▉ | 15895/17850 [1:45:46<10:57,  2.98it/s]"
     ]
    },
    {
     "name": "stdout",
     "output_type": "stream",
     "text": [
      "70236561\n"
     ]
    },
    {
     "name": "stderr",
     "output_type": "stream",
     "text": [
      " 91%|█████████ | 16213/17850 [1:47:49<10:07,  2.70it/s]"
     ]
    },
    {
     "name": "stdout",
     "output_type": "stream",
     "text": [
      "70108797\n"
     ]
    },
    {
     "name": "stderr",
     "output_type": "stream",
     "text": [
      " 91%|█████████ | 16237/17850 [1:47:58<10:01,  2.68it/s]"
     ]
    },
    {
     "name": "stdout",
     "output_type": "stream",
     "text": [
      "70059031\n"
     ]
    },
    {
     "name": "stderr",
     "output_type": "stream",
     "text": [
      " 91%|█████████ | 16260/17850 [1:48:07<09:40,  2.74it/s]"
     ]
    },
    {
     "name": "stdout",
     "output_type": "stream",
     "text": [
      "70132707\n"
     ]
    },
    {
     "name": "stderr",
     "output_type": "stream",
     "text": [
      " 91%|█████████▏| 16308/17850 [1:48:24<09:21,  2.75it/s]"
     ]
    },
    {
     "name": "stdout",
     "output_type": "stream",
     "text": [
      "70243026\n"
     ]
    },
    {
     "name": "stderr",
     "output_type": "stream",
     "text": [
      " 91%|█████████▏| 16312/17850 [1:48:25<08:56,  2.87it/s]"
     ]
    },
    {
     "name": "stdout",
     "output_type": "stream",
     "text": [
      "70271186\n"
     ]
    },
    {
     "name": "stderr",
     "output_type": "stream",
     "text": [
      " 91%|█████████▏| 16313/17850 [1:48:26<08:55,  2.87it/s]"
     ]
    },
    {
     "name": "stdout",
     "output_type": "stream",
     "text": [
      "70271187\n"
     ]
    },
    {
     "name": "stderr",
     "output_type": "stream",
     "text": [
      " 91%|█████████▏| 16322/17850 [1:48:29<09:29,  2.68it/s]"
     ]
    },
    {
     "name": "stdout",
     "output_type": "stream",
     "text": [
      "70046913\n"
     ]
    },
    {
     "name": "stderr",
     "output_type": "stream",
     "text": [
      " 92%|█████████▏| 16417/17850 [1:49:02<08:15,  2.89it/s]"
     ]
    },
    {
     "name": "stdout",
     "output_type": "stream",
     "text": [
      "70042545\n"
     ]
    },
    {
     "name": "stderr",
     "output_type": "stream",
     "text": [
      " 92%|█████████▏| 16507/17850 [1:49:33<07:23,  3.03it/s]"
     ]
    },
    {
     "name": "stdout",
     "output_type": "stream",
     "text": [
      "461590\n"
     ]
    },
    {
     "name": "stderr",
     "output_type": "stream",
     "text": [
      " 93%|█████████▎| 16598/17850 [1:50:05<07:00,  2.98it/s]"
     ]
    },
    {
     "name": "stdout",
     "output_type": "stream",
     "text": [
      "265971\n"
     ]
    },
    {
     "name": "stderr",
     "output_type": "stream",
     "text": [
      " 96%|█████████▌| 17157/17850 [1:54:00<03:57,  2.91it/s]"
     ]
    },
    {
     "name": "stdout",
     "output_type": "stream",
     "text": [
      "70293400\n"
     ]
    },
    {
     "name": "stderr",
     "output_type": "stream",
     "text": [
      " 96%|█████████▌| 17178/17850 [1:54:08<03:49,  2.93it/s]"
     ]
    },
    {
     "name": "stdout",
     "output_type": "stream",
     "text": [
      "70293404\n"
     ]
    },
    {
     "name": "stderr",
     "output_type": "stream",
     "text": [
      " 96%|█████████▋| 17223/17850 [1:54:24<03:36,  2.90it/s]"
     ]
    },
    {
     "name": "stdout",
     "output_type": "stream",
     "text": [
      "70293402\n"
     ]
    },
    {
     "name": "stderr",
     "output_type": "stream",
     "text": [
      " 98%|█████████▊| 17485/17850 [1:56:23<03:23,  1.79it/s]"
     ]
    },
    {
     "name": "stdout",
     "output_type": "stream",
     "text": [
      "80025601\n"
     ]
    },
    {
     "name": "stderr",
     "output_type": "stream",
     "text": [
      "100%|██████████| 17850/17850 [1:59:48<00:00,  2.48it/s]\n"
     ]
    }
   ],
   "source": [
    "from tqdm import tqdm\n",
    "\n",
    "nfids = df.nfid\n",
    "for nfid in tqdm(nfids):\n",
    "    try:\n",
    "        data = pull(nfid).json()[\"results\"]\n",
    "        temp_df = pd.DataFrame(data)\n",
    "        temp_df.rename(columns={\"nfid\":\"nfid_genre\"}, inplace=True)\n",
    "        temp_df.insert(0, \"nfid\", nfid)\n",
    "        res_df = pd.concat([res_df, temp_df])\n",
    "    except:\n",
    "        print(nfid)\n",
    "res_df.set_index(\"nfid\", inplace=True)"
   ]
  },
  {
   "cell_type": "code",
   "execution_count": 8,
   "metadata": {},
   "outputs": [
    {
     "data": {
      "text/html": [
       "<div>\n",
       "<style scoped>\n",
       "    .dataframe tbody tr th:only-of-type {\n",
       "        vertical-align: middle;\n",
       "    }\n",
       "\n",
       "    .dataframe tbody tr th {\n",
       "        vertical-align: top;\n",
       "    }\n",
       "\n",
       "    .dataframe thead th {\n",
       "        text-align: right;\n",
       "    }\n",
       "</style>\n",
       "<table border=\"1\" class=\"dataframe\">\n",
       "  <thead>\n",
       "    <tr style=\"text-align: right;\">\n",
       "      <th></th>\n",
       "      <th>genre</th>\n",
       "      <th>nfid_genre</th>\n",
       "    </tr>\n",
       "    <tr>\n",
       "      <th>nfid</th>\n",
       "      <th></th>\n",
       "      <th></th>\n",
       "    </tr>\n",
       "  </thead>\n",
       "  <tbody>\n",
       "    <tr>\n",
       "      <th>81665918</th>\n",
       "      <td>Comedy Programmes</td>\n",
       "      <td>10375</td>\n",
       "    </tr>\n",
       "    <tr>\n",
       "      <th>81665918</th>\n",
       "      <td>Owarai &amp; Variety Shows</td>\n",
       "      <td>1827694</td>\n",
       "    </tr>\n",
       "    <tr>\n",
       "      <th>81665918</th>\n",
       "      <td>Variety TV</td>\n",
       "      <td>81329745</td>\n",
       "    </tr>\n",
       "    <tr>\n",
       "      <th>81665918</th>\n",
       "      <td>Japanese</td>\n",
       "      <td>81418687</td>\n",
       "    </tr>\n",
       "    <tr>\n",
       "      <th>81619900</th>\n",
       "      <td>Thrillers</td>\n",
       "      <td>8933</td>\n",
       "    </tr>\n",
       "  </tbody>\n",
       "</table>\n",
       "</div>"
      ],
      "text/plain": [
       "                           genre nfid_genre\n",
       "nfid                                       \n",
       "81665918       Comedy Programmes      10375\n",
       "81665918  Owarai & Variety Shows    1827694\n",
       "81665918              Variety TV   81329745\n",
       "81665918                Japanese   81418687\n",
       "81619900               Thrillers       8933"
      ]
     },
     "execution_count": 8,
     "metadata": {},
     "output_type": "execute_result"
    }
   ],
   "source": [
    "res_df.head()"
   ]
  },
  {
   "cell_type": "code",
   "execution_count": 9,
   "metadata": {},
   "outputs": [],
   "source": [
    "res_df.to_pickle(\"netflix-pull-id-genre.pickle\")"
   ]
  },
  {
   "attachments": {},
   "cell_type": "markdown",
   "metadata": {},
   "source": [
    "## Add Genres to Netflix Data"
   ]
  },
  {
   "cell_type": "code",
   "execution_count": null,
   "metadata": {},
   "outputs": [],
   "source": [
    "#res_df = pd.read_pickle(\"netflix-pull-id-genre\")"
   ]
  },
  {
   "cell_type": "code",
   "execution_count": 17,
   "metadata": {},
   "outputs": [],
   "source": [
    "def add_genre_data(row):\n",
    "    nfid = row[\"nfid\"]\n",
    "    try:\n",
    "        genre = res_df.loc[nfid][\"genre\"]\n",
    "    except:\n",
    "        return \"Uncategorized\"\n",
    "    genre_list = []\n",
    "    for gen in genre:\n",
    "        genre_list.append(f\"{gen}\")\n",
    "    \n",
    "    return \" | \".join(genre_list).strip()"
   ]
  },
  {
   "cell_type": "code",
   "execution_count": 18,
   "metadata": {},
   "outputs": [
    {
     "name": "stderr",
     "output_type": "stream",
     "text": [
      "100%|██████████| 17850/17850 [00:01<00:00, 14014.72it/s]\n"
     ]
    }
   ],
   "source": [
    "from tqdm import tqdm\n",
    "tqdm.pandas()\n",
    "\n",
    "df[\"genre\"] = df.progress_apply(lambda row: add_genre_data(row), axis=1)"
   ]
  },
  {
   "cell_type": "code",
   "execution_count": 19,
   "metadata": {},
   "outputs": [
    {
     "data": {
      "text/plain": [
       "(17850, 12)"
      ]
     },
     "execution_count": 19,
     "metadata": {},
     "output_type": "execute_result"
    }
   ],
   "source": [
    "df.shape"
   ]
  },
  {
   "cell_type": "code",
   "execution_count": 25,
   "metadata": {},
   "outputs": [
    {
     "data": {
      "text/html": [
       "<div>\n",
       "<style scoped>\n",
       "    .dataframe tbody tr th:only-of-type {\n",
       "        vertical-align: middle;\n",
       "    }\n",
       "\n",
       "    .dataframe tbody tr th {\n",
       "        vertical-align: top;\n",
       "    }\n",
       "\n",
       "    .dataframe thead th {\n",
       "        text-align: right;\n",
       "    }\n",
       "</style>\n",
       "<table border=\"1\" class=\"dataframe\">\n",
       "  <thead>\n",
       "    <tr style=\"text-align: right;\">\n",
       "      <th></th>\n",
       "      <th>id</th>\n",
       "      <th>title</th>\n",
       "      <th>img</th>\n",
       "      <th>vtype</th>\n",
       "      <th>nfid</th>\n",
       "      <th>synopsis</th>\n",
       "      <th>year</th>\n",
       "      <th>imdbid</th>\n",
       "      <th>clist</th>\n",
       "      <th>titledate</th>\n",
       "      <th>imdb_rating</th>\n",
       "      <th>genre</th>\n",
       "    </tr>\n",
       "  </thead>\n",
       "  <tbody>\n",
       "    <tr>\n",
       "      <th>174</th>\n",
       "      <td>84815</td>\n",
       "      <td>Against the Ropes</td>\n",
       "      <td>https://occ-0-3946-2567.1.nflxso.net/dnm/api/v...</td>\n",
       "      <td>series</td>\n",
       "      <td>81434745</td>\n",
       "      <td>Released from prison, Ángela tries to regain t...</td>\n",
       "      <td>2023</td>\n",
       "      <td>tt25031242</td>\n",
       "      <td>AU:Australia ,LT:Lithuania ,PL:Poland ,FR:Fran...</td>\n",
       "      <td>2023-01-25</td>\n",
       "      <td>6.7</td>\n",
       "      <td>Uncategorized</td>\n",
       "    </tr>\n",
       "    <tr>\n",
       "      <th>985</th>\n",
       "      <td>83133</td>\n",
       "      <td>The Ghost (Hindi)</td>\n",
       "      <td>https://occ-0-434-2567.1.nflxso.net/dnm/api/v6...</td>\n",
       "      <td>movie</td>\n",
       "      <td>81648103</td>\n",
       "      <td>A former agent with a troubled past unleashes ...</td>\n",
       "      <td>2022</td>\n",
       "      <td>tt13655580</td>\n",
       "      <td>AU:Australia ,BR:Brazil ,IN:India ,HK:Hong Kon...</td>\n",
       "      <td>2022-11-04</td>\n",
       "      <td>3.2</td>\n",
       "      <td>Uncategorized</td>\n",
       "    </tr>\n",
       "    <tr>\n",
       "      <th>1580</th>\n",
       "      <td>81938</td>\n",
       "      <td>Wildflower</td>\n",
       "      <td>https://occ-0-2974-58.1.nflxso.net/dnm/api/v6/...</td>\n",
       "      <td>series</td>\n",
       "      <td>81499674</td>\n",
       "      <td>Compassionate, smart and fearless heiress Ivy ...</td>\n",
       "      <td>2018</td>\n",
       "      <td>tt8123992</td>\n",
       "      <td>PH:Philippines</td>\n",
       "      <td>2022-09-13</td>\n",
       "      <td>None</td>\n",
       "      <td>Uncategorized</td>\n",
       "    </tr>\n",
       "    <tr>\n",
       "      <th>1581</th>\n",
       "      <td>81935</td>\n",
       "      <td>Cyberpunk: Edgerunners</td>\n",
       "      <td>https://occ-0-2974-58.1.nflxso.net/dnm/api/v6/...</td>\n",
       "      <td>series</td>\n",
       "      <td>81054853</td>\n",
       "      <td>In a dystopia riddled with corruption and cybe...</td>\n",
       "      <td>2022</td>\n",
       "      <td>tt12590266</td>\n",
       "      <td>PH:Philippines ,LT:Lithuania ,PL:Poland ,FR:Fr...</td>\n",
       "      <td>2022-09-13</td>\n",
       "      <td>8.3</td>\n",
       "      <td>Uncategorized</td>\n",
       "    </tr>\n",
       "    <tr>\n",
       "      <th>1597</th>\n",
       "      <td>81900</td>\n",
       "      <td>Krut: The Himmaphan Warriors</td>\n",
       "      <td>https://occ-0-1588-64.1.nflxso.net/dnm/api/v6/...</td>\n",
       "      <td>movie</td>\n",
       "      <td>81307987</td>\n",
       "      <td>When the war between majestic Garuda and monst...</td>\n",
       "      <td>2018</td>\n",
       "      <td>tt8635054</td>\n",
       "      <td>TH:Thailand</td>\n",
       "      <td>2022-09-13</td>\n",
       "      <td>5.8</td>\n",
       "      <td>Uncategorized</td>\n",
       "    </tr>\n",
       "    <tr>\n",
       "      <th>2219</th>\n",
       "      <td>80585</td>\n",
       "      <td>Cadet 1947</td>\n",
       "      <td>https://occ-0-2697-769.1.nflxso.net/dnm/api/v6...</td>\n",
       "      <td>movie</td>\n",
       "      <td>81604129</td>\n",
       "      <td>A group of Indonesian Air Force cadets embarks...</td>\n",
       "      <td>2021</td>\n",
       "      <td>None</td>\n",
       "      <td>NL:Netherlands,MY:Malaysia,PH:Philippines,SG:S...</td>\n",
       "      <td>2022-07-10</td>\n",
       "      <td>None</td>\n",
       "      <td>Uncategorized</td>\n",
       "    </tr>\n",
       "    <tr>\n",
       "      <th>2907</th>\n",
       "      <td>79216</td>\n",
       "      <td>Here Today</td>\n",
       "      <td>https://occ-0-1361-988.1.nflxso.net/dnm/api/v6...</td>\n",
       "      <td>movie</td>\n",
       "      <td>81458920</td>\n",
       "      <td>A spirited singer wins a lunch with a comedy l...</td>\n",
       "      <td>2021</td>\n",
       "      <td>tt10944596</td>\n",
       "      <td>KR:South Korea,TH:Thailand ,SG:Singapore ,MY:M...</td>\n",
       "      <td>2022-05-01</td>\n",
       "      <td>6.7</td>\n",
       "      <td>Uncategorized</td>\n",
       "    </tr>\n",
       "    <tr>\n",
       "      <th>3041</th>\n",
       "      <td>78945</td>\n",
       "      <td>Together Together</td>\n",
       "      <td>https://occ-0-1174-299.1.nflxso.net/dnm/api/v6...</td>\n",
       "      <td>movie</td>\n",
       "      <td>81410058</td>\n",
       "      <td>A single man hires a young loner to be his sur...</td>\n",
       "      <td>2021</td>\n",
       "      <td>tt11285280</td>\n",
       "      <td>KR:South Korea,TH:Thailand ,SG:Singapore ,MY:M...</td>\n",
       "      <td>2022-04-16</td>\n",
       "      <td>6.4</td>\n",
       "      <td>Uncategorized</td>\n",
       "    </tr>\n",
       "    <tr>\n",
       "      <th>3112</th>\n",
       "      <td>78789</td>\n",
       "      <td>Long Weekend</td>\n",
       "      <td>https://occ-0-2827-299.1.nflxso.net/dnm/api/v6...</td>\n",
       "      <td>movie</td>\n",
       "      <td>81435884</td>\n",
       "      <td>Struggling writer Bart finds purpose and persp...</td>\n",
       "      <td>2021</td>\n",
       "      <td>tt11020728</td>\n",
       "      <td>CA:Canada,BE:Belgium,KR:South Korea,ES:Spain,U...</td>\n",
       "      <td>2022-04-07</td>\n",
       "      <td>6.1</td>\n",
       "      <td>Uncategorized</td>\n",
       "    </tr>\n",
       "    <tr>\n",
       "      <th>4264</th>\n",
       "      <td>76315</td>\n",
       "      <td>The Witcher: Fireplace</td>\n",
       "      <td>https://occ-0-1882-2567.1.nflxso.net/dnm/api/v...</td>\n",
       "      <td>movie</td>\n",
       "      <td>81425229</td>\n",
       "      <td>After keeping many a Witcher warm in the Great...</td>\n",
       "      <td>2021</td>\n",
       "      <td>None</td>\n",
       "      <td>AU:Australia ,BR:Brazil ,IN:India ,HK:Hong Kon...</td>\n",
       "      <td>2021-12-17</td>\n",
       "      <td>None</td>\n",
       "      <td>Uncategorized</td>\n",
       "    </tr>\n",
       "    <tr>\n",
       "      <th>6368</th>\n",
       "      <td>71277</td>\n",
       "      <td>Big Bullet</td>\n",
       "      <td>https://occ-0-544-395.1.nflxso.net/dnm/api/v6/...</td>\n",
       "      <td>movie</td>\n",
       "      <td>16910932</td>\n",
       "      <td>With his motley Emergency Unit crew, a recentl...</td>\n",
       "      <td>1996</td>\n",
       "      <td>tt0126839</td>\n",
       "      <td>HK:Hong Kong</td>\n",
       "      <td>2021-05-19</td>\n",
       "      <td>6.7</td>\n",
       "      <td>Uncategorized</td>\n",
       "    </tr>\n",
       "    <tr>\n",
       "      <th>7725</th>\n",
       "      <td>68127</td>\n",
       "      <td>Monster Run</td>\n",
       "      <td>https://occ-0-395-988.1.nflxso.net/dnm/api/v6/...</td>\n",
       "      <td>movie</td>\n",
       "      <td>81406611</td>\n",
       "      <td>Jimo, an outcast who can see monsters, teams u...</td>\n",
       "      <td>2020</td>\n",
       "      <td>tt10097484</td>\n",
       "      <td>LT:Lithuania ,FR:France ,IT:Italy ,ES:Spain ,G...</td>\n",
       "      <td>2020-12-27</td>\n",
       "      <td>5.1</td>\n",
       "      <td>Uncategorized</td>\n",
       "    </tr>\n",
       "    <tr>\n",
       "      <th>1711</th>\n",
       "      <td>64762</td>\n",
       "      <td>Clergy</td>\n",
       "      <td>https://occ-0-2506-1432.1.nflxso.net/dnm/api/v...</td>\n",
       "      <td>movie</td>\n",
       "      <td>81168900</td>\n",
       "      <td>Linked by tragedy and time, three flawed Catho...</td>\n",
       "      <td>2018</td>\n",
       "      <td>tt8738964</td>\n",
       "      <td>LT:Lithuania ,FR:France ,IT:Italy ,ES:Spain ,G...</td>\n",
       "      <td>2020-03-01</td>\n",
       "      <td>7.4</td>\n",
       "      <td>Uncategorized</td>\n",
       "    </tr>\n",
       "    <tr>\n",
       "      <th>3243</th>\n",
       "      <td>61765</td>\n",
       "      <td>Dining Together</td>\n",
       "      <td>https://occ-0-1007-1360.1.nflxso.net/dnm/api/v...</td>\n",
       "      <td>series</td>\n",
       "      <td>81092855</td>\n",
       "      <td>National emcees Lee Gyeong-gyu and Kang Ho-don...</td>\n",
       "      <td>2019</td>\n",
       "      <td>tt11715168</td>\n",
       "      <td>KR:South Korea</td>\n",
       "      <td>2019-04-18</td>\n",
       "      <td>None</td>\n",
       "      <td>Uncategorized</td>\n",
       "    </tr>\n",
       "    <tr>\n",
       "      <th>3614</th>\n",
       "      <td>60846</td>\n",
       "      <td>Tales From The Dark Part 1</td>\n",
       "      <td>https://occ-0-753-1360.1.nflxso.net/dnm/api/v6...</td>\n",
       "      <td>movie</td>\n",
       "      <td>81027766</td>\n",
       "      <td>These chilling shorts include the tale of a ha...</td>\n",
       "      <td>2013</td>\n",
       "      <td>tt3105008</td>\n",
       "      <td>AU:Australia,HK:Hong Kong,JP:Japan,MY:Malaysia...</td>\n",
       "      <td>2019-01-17</td>\n",
       "      <td>5.6</td>\n",
       "      <td>Uncategorized</td>\n",
       "    </tr>\n",
       "    <tr>\n",
       "      <th>3663</th>\n",
       "      <td>60733</td>\n",
       "      <td>Les acteurs</td>\n",
       "      <td>https://occ-0-768-769.1.nflxso.net/dnm/api/v6/...</td>\n",
       "      <td>movie</td>\n",
       "      <td>81043668</td>\n",
       "      <td>Farce meets ironic realism in a stream-of-cons...</td>\n",
       "      <td>2000</td>\n",
       "      <td>tt0211900</td>\n",
       "      <td>CZ:Czech Republic,HU:Hungary,PT:Portugal,ES:Sp...</td>\n",
       "      <td>2019-01-01</td>\n",
       "      <td>5.9</td>\n",
       "      <td>Uncategorized</td>\n",
       "    </tr>\n",
       "    <tr>\n",
       "      <th>3814</th>\n",
       "      <td>60308</td>\n",
       "      <td>Qualquer Gato Vira-Lata 2</td>\n",
       "      <td>https://occ-0-1952-2433.1.nflxso.net/dnm/api/v...</td>\n",
       "      <td>movie</td>\n",
       "      <td>80994923</td>\n",
       "      <td>Tati and Conrado head to beautiful Cancun, whe...</td>\n",
       "      <td>2015</td>\n",
       "      <td>tt4657092</td>\n",
       "      <td>BR:Brazil</td>\n",
       "      <td>2018-12-04</td>\n",
       "      <td>5.4</td>\n",
       "      <td>Uncategorized</td>\n",
       "    </tr>\n",
       "    <tr>\n",
       "      <th>4209</th>\n",
       "      <td>59263</td>\n",
       "      <td>A Noite Da Virada</td>\n",
       "      <td>https://occ-0-1952-2433.1.nflxso.net/dnm/api/v...</td>\n",
       "      <td>movie</td>\n",
       "      <td>80994916</td>\n",
       "      <td>Ana and her husband throw an epic New Year's E...</td>\n",
       "      <td>2014</td>\n",
       "      <td>tt4299406</td>\n",
       "      <td>BR:Brazil</td>\n",
       "      <td>2018-09-25</td>\n",
       "      <td>4.7</td>\n",
       "      <td>Uncategorized</td>\n",
       "    </tr>\n",
       "    <tr>\n",
       "      <th>4458</th>\n",
       "      <td>58622</td>\n",
       "      <td>HDR sRGB Graphics Test (400 nits)</td>\n",
       "      <td>http://occ-2-1168-1217.1.nflxso.net/art/7cd41/...</td>\n",
       "      <td>series</td>\n",
       "      <td>81014625</td>\n",
       "      <td>Series of sRGB graphics graded to 400 nits in...</td>\n",
       "      <td>2018</td>\n",
       "      <td>None</td>\n",
       "      <td>CA:Canada,FR:France,SK:Slovakia,ES:Spain,SE:Sw...</td>\n",
       "      <td>2018-07-06</td>\n",
       "      <td>None</td>\n",
       "      <td>Uncategorized</td>\n",
       "    </tr>\n",
       "    <tr>\n",
       "      <th>4473</th>\n",
       "      <td>58564</td>\n",
       "      <td>Vacanze ai Caraibi</td>\n",
       "      <td>https://occ-0-784-778.1.nflxso.net/art/f8b8e/4...</td>\n",
       "      <td>movie</td>\n",
       "      <td>81002875</td>\n",
       "      <td>While on holiday in the Caribbean, a bankrupt ...</td>\n",
       "      <td>2015</td>\n",
       "      <td>tt5300948</td>\n",
       "      <td>IT:Italy</td>\n",
       "      <td>2018-07-01</td>\n",
       "      <td>3.3</td>\n",
       "      <td>Uncategorized</td>\n",
       "    </tr>\n",
       "    <tr>\n",
       "      <th>4858</th>\n",
       "      <td>57425</td>\n",
       "      <td>Nocturne</td>\n",
       "      <td>http://occ-0-2851-38.1.nflxso.net/dnm/api/v6/e...</td>\n",
       "      <td>movie</td>\n",
       "      <td>80987558</td>\n",
       "      <td>No one has seen what happens in The New Ballet...</td>\n",
       "      <td>2018</td>\n",
       "      <td>tt6533240</td>\n",
       "      <td>FR:France ,DE:Germany ,LT:Lithuania ,PL:Poland...</td>\n",
       "      <td>2018-03-10</td>\n",
       "      <td>5.9</td>\n",
       "      <td>Uncategorized</td>\n",
       "    </tr>\n",
       "    <tr>\n",
       "      <th>5472</th>\n",
       "      <td>54735</td>\n",
       "      <td>Up for Love</td>\n",
       "      <td>https://occ-0-2506-1432.1.nflxso.net/dnm/api/v...</td>\n",
       "      <td>movie</td>\n",
       "      <td>80192947</td>\n",
       "      <td>A lawyer begins to fall for an architect she m...</td>\n",
       "      <td>2016</td>\n",
       "      <td>tt4699388</td>\n",
       "      <td>FR:France,PL:Poland</td>\n",
       "      <td>2017-09-01</td>\n",
       "      <td>6.3</td>\n",
       "      <td>Uncategorized</td>\n",
       "    </tr>\n",
       "    <tr>\n",
       "      <th>5596</th>\n",
       "      <td>54226</td>\n",
       "      <td>A Matter of Interpretation</td>\n",
       "      <td>https://occ-0-1007-1361.1.nflxso.net/art/8e33f...</td>\n",
       "      <td>movie</td>\n",
       "      <td>80186968</td>\n",
       "      <td>A temperamental actress, her boyfriend and a p...</td>\n",
       "      <td>2015</td>\n",
       "      <td>tt0038733</td>\n",
       "      <td>KR:South Korea</td>\n",
       "      <td>2017-07-21</td>\n",
       "      <td>8</td>\n",
       "      <td>Uncategorized</td>\n",
       "    </tr>\n",
       "    <tr>\n",
       "      <th>5892</th>\n",
       "      <td>52874</td>\n",
       "      <td>Men on a Mission</td>\n",
       "      <td>https://occ-0-2851-38.1.nflxso.net/dnm/api/v6/...</td>\n",
       "      <td>series</td>\n",
       "      <td>80176842</td>\n",
       "      <td>Male celebs play make-believe as high schooler...</td>\n",
       "      <td>2017</td>\n",
       "      <td>tt9327146</td>\n",
       "      <td>KR:South Korea,HK:Hong Kong ,SG:Singapore ,ES:...</td>\n",
       "      <td>2017-04-17</td>\n",
       "      <td>6.6</td>\n",
       "      <td>Uncategorized</td>\n",
       "    </tr>\n",
       "    <tr>\n",
       "      <th>6111</th>\n",
       "      <td>51698</td>\n",
       "      <td>Sparks (AR Fix, DoVi, Scratch Audio)</td>\n",
       "      <td>http://occ-0-2851-38.1.nflxso.net/dnm/api/v6/e...</td>\n",
       "      <td>movie</td>\n",
       "      <td>80156943</td>\n",
       "      <td>Sparks, DoVi, DCI 4K, 59.94 fps, original fram...</td>\n",
       "      <td>2016</td>\n",
       "      <td>None</td>\n",
       "      <td>US:United States,CA:Canada ,LT:Lithuania ,IN:I...</td>\n",
       "      <td>2017-02-02</td>\n",
       "      <td>None</td>\n",
       "      <td>Uncategorized</td>\n",
       "    </tr>\n",
       "    <tr>\n",
       "      <th>6329</th>\n",
       "      <td>50514</td>\n",
       "      <td>West Coast Customs</td>\n",
       "      <td>https://occ-0-2851-38.1.nflxso.net/dnm/api/v6/...</td>\n",
       "      <td>series</td>\n",
       "      <td>80135640</td>\n",
       "      <td>West Coast Customs, a mecca for well-heeled ca...</td>\n",
       "      <td>2011</td>\n",
       "      <td>tt1885855</td>\n",
       "      <td>GB:United Kingdom,AU:Australia ,IS:Iceland ,IN...</td>\n",
       "      <td>2016-12-01</td>\n",
       "      <td>6.8</td>\n",
       "      <td>Uncategorized</td>\n",
       "    </tr>\n",
       "    <tr>\n",
       "      <th>6866</th>\n",
       "      <td>47512</td>\n",
       "      <td>The Glamorous Imperial Concubine</td>\n",
       "      <td>http://occ-1-1007-1361.1.nflxso.net/art/16a7d/...</td>\n",
       "      <td>series</td>\n",
       "      <td>80071084</td>\n",
       "      <td>An exiled princess who is loved by three emper...</td>\n",
       "      <td>2011</td>\n",
       "      <td>tt2272555</td>\n",
       "      <td>LT:Lithuania ,PL:Poland ,FR:France ,IS:Iceland...</td>\n",
       "      <td>2016-06-01</td>\n",
       "      <td>6.9</td>\n",
       "      <td>Uncategorized</td>\n",
       "    </tr>\n",
       "    <tr>\n",
       "      <th>7105</th>\n",
       "      <td>45785</td>\n",
       "      <td>Joe Kidd</td>\n",
       "      <td>http://art-1.nflximg.net/d7a5b/ae91f44f277def5...</td>\n",
       "      <td>movie</td>\n",
       "      <td>654901</td>\n",
       "      <td>An ex-bounty hunter becomes entangled in a lan...</td>\n",
       "      <td>1972</td>\n",
       "      <td>tt0068768</td>\n",
       "      <td>AR:Argentina,BR:Brazil,CO:Colombia,MX:Mexico</td>\n",
       "      <td>2016-01-13</td>\n",
       "      <td>6.4</td>\n",
       "      <td>Uncategorized</td>\n",
       "    </tr>\n",
       "    <tr>\n",
       "      <th>7288</th>\n",
       "      <td>44645</td>\n",
       "      <td>Sayonara kabukichô</td>\n",
       "      <td>https://occ-0-1007-1360.1.nflxso.net/dnm/api/v...</td>\n",
       "      <td>movie</td>\n",
       "      <td>80018758</td>\n",
       "      <td>A hotel in Tokyo's red-light district hosts al...</td>\n",
       "      <td>2014</td>\n",
       "      <td>tt3876372</td>\n",
       "      <td>KR:South Korea</td>\n",
       "      <td>2015-11-06</td>\n",
       "      <td>6.9</td>\n",
       "      <td>Uncategorized</td>\n",
       "    </tr>\n",
       "    <tr>\n",
       "      <th>7770</th>\n",
       "      <td>40752</td>\n",
       "      <td>Bottersnikes and Gumbles</td>\n",
       "      <td>https://occ-0-2851-38.1.nflxso.net/dnm/api/v6/...</td>\n",
       "      <td>series</td>\n",
       "      <td>80022276</td>\n",
       "      <td>Based on the much-loved books, three young Gum...</td>\n",
       "      <td>2015</td>\n",
       "      <td>tt6015820</td>\n",
       "      <td>US:United States,MX:Mexico ,AR:Argentina ,CA:C...</td>\n",
       "      <td>2015-05-01</td>\n",
       "      <td>5.2</td>\n",
       "      <td>Uncategorized</td>\n",
       "    </tr>\n",
       "    <tr>\n",
       "      <th>7894</th>\n",
       "      <td>39427</td>\n",
       "      <td>Top Boy</td>\n",
       "      <td>https://occ-0-2851-38.1.nflxso.net/dnm/api/v6/...</td>\n",
       "      <td>series</td>\n",
       "      <td>70236561</td>\n",
       "      <td>In this gritty, stylish drama series, two Lond...</td>\n",
       "      <td>2011</td>\n",
       "      <td>tt1830379</td>\n",
       "      <td>US:United States,GB:United Kingdom,IN:India ,R...</td>\n",
       "      <td>2015-04-14</td>\n",
       "      <td>8.4</td>\n",
       "      <td>Uncategorized</td>\n",
       "    </tr>\n",
       "    <tr>\n",
       "      <th>213</th>\n",
       "      <td>37417</td>\n",
       "      <td>Tony Manero</td>\n",
       "      <td>http://art-0.nflximg.net/16393/84a4593ad7d52bb...</td>\n",
       "      <td>movie</td>\n",
       "      <td>70108797</td>\n",
       "      <td>Set in 1978 Chile, this drama centers on Tony ...</td>\n",
       "      <td>2008</td>\n",
       "      <td>tt1223975</td>\n",
       "      <td>US:United States,AR:Argentina,BR:Brazil,CO:Col...</td>\n",
       "      <td>2015-04-14</td>\n",
       "      <td>6.8</td>\n",
       "      <td>Uncategorized</td>\n",
       "    </tr>\n",
       "    <tr>\n",
       "      <th>237</th>\n",
       "      <td>36693</td>\n",
       "      <td>Something Like Happiness</td>\n",
       "      <td>https://occ-0-1490-1489.1.nflxso.net/dnm/api/v...</td>\n",
       "      <td>movie</td>\n",
       "      <td>70059031</td>\n",
       "      <td>A trio of friends from a small working-class C...</td>\n",
       "      <td>2005</td>\n",
       "      <td>tt0406098</td>\n",
       "      <td>SK:Slovakia</td>\n",
       "      <td>2015-04-14</td>\n",
       "      <td>7.1</td>\n",
       "      <td>Uncategorized</td>\n",
       "    </tr>\n",
       "    <tr>\n",
       "      <th>260</th>\n",
       "      <td>36231</td>\n",
       "      <td>The Hairdresser</td>\n",
       "      <td>https://occ-0-1490-1489.1.nflxso.net/art/186e9...</td>\n",
       "      <td>movie</td>\n",
       "      <td>70132707</td>\n",
       "      <td>When a salon refuses to hire her because of he...</td>\n",
       "      <td>2010</td>\n",
       "      <td>tt1585255</td>\n",
       "      <td>DE:Germany</td>\n",
       "      <td>2015-04-14</td>\n",
       "      <td>6.4</td>\n",
       "      <td>Uncategorized</td>\n",
       "    </tr>\n",
       "    <tr>\n",
       "      <th>308</th>\n",
       "      <td>35059</td>\n",
       "      <td>Antiviral</td>\n",
       "      <td>https://occ-0-2042-1007.1.nflxso.net/art/43096...</td>\n",
       "      <td>movie</td>\n",
       "      <td>70243026</td>\n",
       "      <td>This wild sci-fi vision imagines a freaky futu...</td>\n",
       "      <td>2012</td>\n",
       "      <td>tt2099556</td>\n",
       "      <td>CA:Canada</td>\n",
       "      <td>2015-04-14</td>\n",
       "      <td>5.7</td>\n",
       "      <td>Uncategorized</td>\n",
       "    </tr>\n",
       "    <tr>\n",
       "      <th>312</th>\n",
       "      <td>34964</td>\n",
       "      <td>It's All Happening</td>\n",
       "      <td>http://cdn0.nflximg.net/images/3664/2393664.jpg</td>\n",
       "      <td>movie</td>\n",
       "      <td>70271186</td>\n",
       "      <td>Teen idol Tommy Steele stars in this musical c...</td>\n",
       "      <td>1963</td>\n",
       "      <td>tt0057192</td>\n",
       "      <td>CZ:Czech Republic,SE:Sweden</td>\n",
       "      <td>2015-04-14</td>\n",
       "      <td>5.5</td>\n",
       "      <td>Uncategorized</td>\n",
       "    </tr>\n",
       "    <tr>\n",
       "      <th>313</th>\n",
       "      <td>34962</td>\n",
       "      <td>It's All Over Town</td>\n",
       "      <td>http://cdn1.nflximg.net/images/6357/2396357.jpg</td>\n",
       "      <td>movie</td>\n",
       "      <td>70271187</td>\n",
       "      <td>A girl-crazy stagehand and his pal try to see ...</td>\n",
       "      <td>1963</td>\n",
       "      <td>tt0196648</td>\n",
       "      <td>CZ:Czech Republic,SE:Sweden</td>\n",
       "      <td>2015-04-14</td>\n",
       "      <td>5.4</td>\n",
       "      <td>Uncategorized</td>\n",
       "    </tr>\n",
       "    <tr>\n",
       "      <th>322</th>\n",
       "      <td>34782</td>\n",
       "      <td>Go for Zucker</td>\n",
       "      <td>http://cdn0.nflximg.net/images/3734/2473734.jpg</td>\n",
       "      <td>movie</td>\n",
       "      <td>70046913</td>\n",
       "      <td>When his mother suddenly dies, pool hustler Ja...</td>\n",
       "      <td>2004</td>\n",
       "      <td>tt0416331</td>\n",
       "      <td>DE:Germany</td>\n",
       "      <td>2015-04-14</td>\n",
       "      <td>6.7</td>\n",
       "      <td>Uncategorized</td>\n",
       "    </tr>\n",
       "    <tr>\n",
       "      <th>417</th>\n",
       "      <td>33544</td>\n",
       "      <td>Konga</td>\n",
       "      <td>http://cdn1.nflximg.net/images/1695/3011695.jpg</td>\n",
       "      <td>movie</td>\n",
       "      <td>70042545</td>\n",
       "      <td>Renowned botanist Charles Decker tests a carni...</td>\n",
       "      <td>1961</td>\n",
       "      <td>tt0055058</td>\n",
       "      <td>CZ:Czech Republic</td>\n",
       "      <td>2015-04-14</td>\n",
       "      <td>4.5</td>\n",
       "      <td>Uncategorized</td>\n",
       "    </tr>\n",
       "    <tr>\n",
       "      <th>507</th>\n",
       "      <td>32698</td>\n",
       "      <td>Driving Miss Daisy</td>\n",
       "      <td>https://occ-0-2773-2774.1.nflxso.net/dnm/api/v...</td>\n",
       "      <td>movie</td>\n",
       "      <td>461590</td>\n",
       "      <td>After strong-willed widow Miss Daisy crashes h...</td>\n",
       "      <td>1989</td>\n",
       "      <td>tt0097239</td>\n",
       "      <td>KR:South Korea</td>\n",
       "      <td>2015-04-14</td>\n",
       "      <td>7.3</td>\n",
       "      <td>Uncategorized</td>\n",
       "    </tr>\n",
       "    <tr>\n",
       "      <th>598</th>\n",
       "      <td>31672</td>\n",
       "      <td>Assault on Precinct 13</td>\n",
       "      <td>http://cdn0.nflximg.net/images/3186/3863186.jpg</td>\n",
       "      <td>movie</td>\n",
       "      <td>265971</td>\n",
       "      <td>Members of an understaffed almost-abandoned po...</td>\n",
       "      <td>1976</td>\n",
       "      <td>tt0074156</td>\n",
       "      <td>AU:Australia</td>\n",
       "      <td>2015-04-14</td>\n",
       "      <td>7.3</td>\n",
       "      <td>Uncategorized</td>\n",
       "    </tr>\n",
       "    <tr>\n",
       "      <th>1157</th>\n",
       "      <td>28976</td>\n",
       "      <td>Hollywoo</td>\n",
       "      <td>https://occ-0-300-2774.1.nflxso.net/dnm/api/v6...</td>\n",
       "      <td>movie</td>\n",
       "      <td>70293400</td>\n",
       "      <td>When an actress on a popular American sitcom s...</td>\n",
       "      <td>2011</td>\n",
       "      <td>tt1730697</td>\n",
       "      <td>IS:Iceland,LT:Lithuania,PT:Portugal,RO:Romania</td>\n",
       "      <td>2015-04-14</td>\n",
       "      <td>5.1</td>\n",
       "      <td>Uncategorized</td>\n",
       "    </tr>\n",
       "    <tr>\n",
       "      <th>1178</th>\n",
       "      <td>28921</td>\n",
       "      <td>R.I.F.</td>\n",
       "      <td>http://cdn1.nflximg.net/images/9619/9619619.jpg</td>\n",
       "      <td>movie</td>\n",
       "      <td>70293404</td>\n",
       "      <td>An exhausted detective taking a much-needed fa...</td>\n",
       "      <td>2011</td>\n",
       "      <td>tt1729218</td>\n",
       "      <td>NL:Netherlands,IS:Iceland,LT:Lithuania,PT:Port...</td>\n",
       "      <td>2015-04-14</td>\n",
       "      <td>6</td>\n",
       "      <td>Uncategorized</td>\n",
       "    </tr>\n",
       "    <tr>\n",
       "      <th>1223</th>\n",
       "      <td>28735</td>\n",
       "      <td>When Pigs Have Wings</td>\n",
       "      <td>https://occ-0-300-2773.1.nflxso.net/art/64894/...</td>\n",
       "      <td>movie</td>\n",
       "      <td>70293402</td>\n",
       "      <td>Palestinian fisherman Jafaar 'catches' a pig w...</td>\n",
       "      <td>2011</td>\n",
       "      <td>tt1735200</td>\n",
       "      <td>GR:Greece,IS:Iceland,LT:Lithuania,RO:Romania</td>\n",
       "      <td>2015-04-14</td>\n",
       "      <td>7</td>\n",
       "      <td>Uncategorized</td>\n",
       "    </tr>\n",
       "    <tr>\n",
       "      <th>1485</th>\n",
       "      <td>27570</td>\n",
       "      <td>The Get Down</td>\n",
       "      <td>https://occ-0-2851-38.1.nflxso.net/dnm/api/v6/...</td>\n",
       "      <td>series</td>\n",
       "      <td>80025601</td>\n",
       "      <td>Told through the lives and music of a ragtag c...</td>\n",
       "      <td>2016</td>\n",
       "      <td>tt4592410</td>\n",
       "      <td>US:United States,MX:Mexico ,AR:Argentina ,CA:C...</td>\n",
       "      <td>2015-04-14</td>\n",
       "      <td>8.2</td>\n",
       "      <td>Uncategorized</td>\n",
       "    </tr>\n",
       "  </tbody>\n",
       "</table>\n",
       "</div>"
      ],
      "text/plain": [
       "         id                                 title  \\\n",
       "174   84815                     Against the Ropes   \n",
       "985   83133                     The Ghost (Hindi)   \n",
       "1580  81938                            Wildflower   \n",
       "1581  81935                Cyberpunk: Edgerunners   \n",
       "1597  81900          Krut: The Himmaphan Warriors   \n",
       "2219  80585                            Cadet 1947   \n",
       "2907  79216                            Here Today   \n",
       "3041  78945                     Together Together   \n",
       "3112  78789                          Long Weekend   \n",
       "4264  76315                The Witcher: Fireplace   \n",
       "6368  71277                            Big Bullet   \n",
       "7725  68127                           Monster Run   \n",
       "1711  64762                                Clergy   \n",
       "3243  61765                       Dining Together   \n",
       "3614  60846            Tales From The Dark Part 1   \n",
       "3663  60733                           Les acteurs   \n",
       "3814  60308             Qualquer Gato Vira-Lata 2   \n",
       "4209  59263                     A Noite Da Virada   \n",
       "4458  58622     HDR sRGB Graphics Test (400 nits)   \n",
       "4473  58564                    Vacanze ai Caraibi   \n",
       "4858  57425                              Nocturne   \n",
       "5472  54735                           Up for Love   \n",
       "5596  54226            A Matter of Interpretation   \n",
       "5892  52874                      Men on a Mission   \n",
       "6111  51698  Sparks (AR Fix, DoVi, Scratch Audio)   \n",
       "6329  50514                    West Coast Customs   \n",
       "6866  47512      The Glamorous Imperial Concubine   \n",
       "7105  45785                              Joe Kidd   \n",
       "7288  44645                    Sayonara kabukichô   \n",
       "7770  40752              Bottersnikes and Gumbles   \n",
       "7894  39427                               Top Boy   \n",
       "213   37417                           Tony Manero   \n",
       "237   36693              Something Like Happiness   \n",
       "260   36231                       The Hairdresser   \n",
       "308   35059                             Antiviral   \n",
       "312   34964                    It's All Happening   \n",
       "313   34962                    It's All Over Town   \n",
       "322   34782                         Go for Zucker   \n",
       "417   33544                                 Konga   \n",
       "507   32698                    Driving Miss Daisy   \n",
       "598   31672                Assault on Precinct 13   \n",
       "1157  28976                              Hollywoo   \n",
       "1178  28921                                R.I.F.   \n",
       "1223  28735                  When Pigs Have Wings   \n",
       "1485  27570                          The Get Down   \n",
       "\n",
       "                                                    img   vtype      nfid  \\\n",
       "174   https://occ-0-3946-2567.1.nflxso.net/dnm/api/v...  series  81434745   \n",
       "985   https://occ-0-434-2567.1.nflxso.net/dnm/api/v6...   movie  81648103   \n",
       "1580  https://occ-0-2974-58.1.nflxso.net/dnm/api/v6/...  series  81499674   \n",
       "1581  https://occ-0-2974-58.1.nflxso.net/dnm/api/v6/...  series  81054853   \n",
       "1597  https://occ-0-1588-64.1.nflxso.net/dnm/api/v6/...   movie  81307987   \n",
       "2219  https://occ-0-2697-769.1.nflxso.net/dnm/api/v6...   movie  81604129   \n",
       "2907  https://occ-0-1361-988.1.nflxso.net/dnm/api/v6...   movie  81458920   \n",
       "3041  https://occ-0-1174-299.1.nflxso.net/dnm/api/v6...   movie  81410058   \n",
       "3112  https://occ-0-2827-299.1.nflxso.net/dnm/api/v6...   movie  81435884   \n",
       "4264  https://occ-0-1882-2567.1.nflxso.net/dnm/api/v...   movie  81425229   \n",
       "6368  https://occ-0-544-395.1.nflxso.net/dnm/api/v6/...   movie  16910932   \n",
       "7725  https://occ-0-395-988.1.nflxso.net/dnm/api/v6/...   movie  81406611   \n",
       "1711  https://occ-0-2506-1432.1.nflxso.net/dnm/api/v...   movie  81168900   \n",
       "3243  https://occ-0-1007-1360.1.nflxso.net/dnm/api/v...  series  81092855   \n",
       "3614  https://occ-0-753-1360.1.nflxso.net/dnm/api/v6...   movie  81027766   \n",
       "3663  https://occ-0-768-769.1.nflxso.net/dnm/api/v6/...   movie  81043668   \n",
       "3814  https://occ-0-1952-2433.1.nflxso.net/dnm/api/v...   movie  80994923   \n",
       "4209  https://occ-0-1952-2433.1.nflxso.net/dnm/api/v...   movie  80994916   \n",
       "4458  http://occ-2-1168-1217.1.nflxso.net/art/7cd41/...  series  81014625   \n",
       "4473  https://occ-0-784-778.1.nflxso.net/art/f8b8e/4...   movie  81002875   \n",
       "4858  http://occ-0-2851-38.1.nflxso.net/dnm/api/v6/e...   movie  80987558   \n",
       "5472  https://occ-0-2506-1432.1.nflxso.net/dnm/api/v...   movie  80192947   \n",
       "5596  https://occ-0-1007-1361.1.nflxso.net/art/8e33f...   movie  80186968   \n",
       "5892  https://occ-0-2851-38.1.nflxso.net/dnm/api/v6/...  series  80176842   \n",
       "6111  http://occ-0-2851-38.1.nflxso.net/dnm/api/v6/e...   movie  80156943   \n",
       "6329  https://occ-0-2851-38.1.nflxso.net/dnm/api/v6/...  series  80135640   \n",
       "6866  http://occ-1-1007-1361.1.nflxso.net/art/16a7d/...  series  80071084   \n",
       "7105  http://art-1.nflximg.net/d7a5b/ae91f44f277def5...   movie    654901   \n",
       "7288  https://occ-0-1007-1360.1.nflxso.net/dnm/api/v...   movie  80018758   \n",
       "7770  https://occ-0-2851-38.1.nflxso.net/dnm/api/v6/...  series  80022276   \n",
       "7894  https://occ-0-2851-38.1.nflxso.net/dnm/api/v6/...  series  70236561   \n",
       "213   http://art-0.nflximg.net/16393/84a4593ad7d52bb...   movie  70108797   \n",
       "237   https://occ-0-1490-1489.1.nflxso.net/dnm/api/v...   movie  70059031   \n",
       "260   https://occ-0-1490-1489.1.nflxso.net/art/186e9...   movie  70132707   \n",
       "308   https://occ-0-2042-1007.1.nflxso.net/art/43096...   movie  70243026   \n",
       "312     http://cdn0.nflximg.net/images/3664/2393664.jpg   movie  70271186   \n",
       "313     http://cdn1.nflximg.net/images/6357/2396357.jpg   movie  70271187   \n",
       "322     http://cdn0.nflximg.net/images/3734/2473734.jpg   movie  70046913   \n",
       "417     http://cdn1.nflximg.net/images/1695/3011695.jpg   movie  70042545   \n",
       "507   https://occ-0-2773-2774.1.nflxso.net/dnm/api/v...   movie    461590   \n",
       "598     http://cdn0.nflximg.net/images/3186/3863186.jpg   movie    265971   \n",
       "1157  https://occ-0-300-2774.1.nflxso.net/dnm/api/v6...   movie  70293400   \n",
       "1178    http://cdn1.nflximg.net/images/9619/9619619.jpg   movie  70293404   \n",
       "1223  https://occ-0-300-2773.1.nflxso.net/art/64894/...   movie  70293402   \n",
       "1485  https://occ-0-2851-38.1.nflxso.net/dnm/api/v6/...  series  80025601   \n",
       "\n",
       "                                               synopsis  year      imdbid  \\\n",
       "174   Released from prison, Ángela tries to regain t...  2023  tt25031242   \n",
       "985   A former agent with a troubled past unleashes ...  2022  tt13655580   \n",
       "1580  Compassionate, smart and fearless heiress Ivy ...  2018   tt8123992   \n",
       "1581  In a dystopia riddled with corruption and cybe...  2022  tt12590266   \n",
       "1597  When the war between majestic Garuda and monst...  2018   tt8635054   \n",
       "2219  A group of Indonesian Air Force cadets embarks...  2021        None   \n",
       "2907  A spirited singer wins a lunch with a comedy l...  2021  tt10944596   \n",
       "3041  A single man hires a young loner to be his sur...  2021  tt11285280   \n",
       "3112  Struggling writer Bart finds purpose and persp...  2021  tt11020728   \n",
       "4264  After keeping many a Witcher warm in the Great...  2021        None   \n",
       "6368  With his motley Emergency Unit crew, a recentl...  1996   tt0126839   \n",
       "7725  Jimo, an outcast who can see monsters, teams u...  2020  tt10097484   \n",
       "1711  Linked by tragedy and time, three flawed Catho...  2018   tt8738964   \n",
       "3243  National emcees Lee Gyeong-gyu and Kang Ho-don...  2019  tt11715168   \n",
       "3614  These chilling shorts include the tale of a ha...  2013   tt3105008   \n",
       "3663  Farce meets ironic realism in a stream-of-cons...  2000   tt0211900   \n",
       "3814  Tati and Conrado head to beautiful Cancun, whe...  2015   tt4657092   \n",
       "4209  Ana and her husband throw an epic New Year's E...  2014   tt4299406   \n",
       "4458   Series of sRGB graphics graded to 400 nits in...  2018        None   \n",
       "4473  While on holiday in the Caribbean, a bankrupt ...  2015   tt5300948   \n",
       "4858  No one has seen what happens in The New Ballet...  2018   tt6533240   \n",
       "5472  A lawyer begins to fall for an architect she m...  2016   tt4699388   \n",
       "5596  A temperamental actress, her boyfriend and a p...  2015   tt0038733   \n",
       "5892  Male celebs play make-believe as high schooler...  2017   tt9327146   \n",
       "6111  Sparks, DoVi, DCI 4K, 59.94 fps, original fram...  2016        None   \n",
       "6329  West Coast Customs, a mecca for well-heeled ca...  2011   tt1885855   \n",
       "6866  An exiled princess who is loved by three emper...  2011   tt2272555   \n",
       "7105  An ex-bounty hunter becomes entangled in a lan...  1972   tt0068768   \n",
       "7288  A hotel in Tokyo's red-light district hosts al...  2014   tt3876372   \n",
       "7770  Based on the much-loved books, three young Gum...  2015   tt6015820   \n",
       "7894  In this gritty, stylish drama series, two Lond...  2011   tt1830379   \n",
       "213   Set in 1978 Chile, this drama centers on Tony ...  2008   tt1223975   \n",
       "237   A trio of friends from a small working-class C...  2005   tt0406098   \n",
       "260   When a salon refuses to hire her because of he...  2010   tt1585255   \n",
       "308   This wild sci-fi vision imagines a freaky futu...  2012   tt2099556   \n",
       "312   Teen idol Tommy Steele stars in this musical c...  1963   tt0057192   \n",
       "313   A girl-crazy stagehand and his pal try to see ...  1963   tt0196648   \n",
       "322   When his mother suddenly dies, pool hustler Ja...  2004   tt0416331   \n",
       "417   Renowned botanist Charles Decker tests a carni...  1961   tt0055058   \n",
       "507   After strong-willed widow Miss Daisy crashes h...  1989   tt0097239   \n",
       "598   Members of an understaffed almost-abandoned po...  1976   tt0074156   \n",
       "1157  When an actress on a popular American sitcom s...  2011   tt1730697   \n",
       "1178  An exhausted detective taking a much-needed fa...  2011   tt1729218   \n",
       "1223  Palestinian fisherman Jafaar 'catches' a pig w...  2011   tt1735200   \n",
       "1485  Told through the lives and music of a ragtag c...  2016   tt4592410   \n",
       "\n",
       "                                                  clist   titledate  \\\n",
       "174   AU:Australia ,LT:Lithuania ,PL:Poland ,FR:Fran...  2023-01-25   \n",
       "985   AU:Australia ,BR:Brazil ,IN:India ,HK:Hong Kon...  2022-11-04   \n",
       "1580                                     PH:Philippines  2022-09-13   \n",
       "1581  PH:Philippines ,LT:Lithuania ,PL:Poland ,FR:Fr...  2022-09-13   \n",
       "1597                                        TH:Thailand  2022-09-13   \n",
       "2219  NL:Netherlands,MY:Malaysia,PH:Philippines,SG:S...  2022-07-10   \n",
       "2907  KR:South Korea,TH:Thailand ,SG:Singapore ,MY:M...  2022-05-01   \n",
       "3041  KR:South Korea,TH:Thailand ,SG:Singapore ,MY:M...  2022-04-16   \n",
       "3112  CA:Canada,BE:Belgium,KR:South Korea,ES:Spain,U...  2022-04-07   \n",
       "4264  AU:Australia ,BR:Brazil ,IN:India ,HK:Hong Kon...  2021-12-17   \n",
       "6368                                       HK:Hong Kong  2021-05-19   \n",
       "7725  LT:Lithuania ,FR:France ,IT:Italy ,ES:Spain ,G...  2020-12-27   \n",
       "1711  LT:Lithuania ,FR:France ,IT:Italy ,ES:Spain ,G...  2020-03-01   \n",
       "3243                                     KR:South Korea  2019-04-18   \n",
       "3614  AU:Australia,HK:Hong Kong,JP:Japan,MY:Malaysia...  2019-01-17   \n",
       "3663  CZ:Czech Republic,HU:Hungary,PT:Portugal,ES:Sp...  2019-01-01   \n",
       "3814                                          BR:Brazil  2018-12-04   \n",
       "4209                                          BR:Brazil  2018-09-25   \n",
       "4458  CA:Canada,FR:France,SK:Slovakia,ES:Spain,SE:Sw...  2018-07-06   \n",
       "4473                                           IT:Italy  2018-07-01   \n",
       "4858  FR:France ,DE:Germany ,LT:Lithuania ,PL:Poland...  2018-03-10   \n",
       "5472                                FR:France,PL:Poland  2017-09-01   \n",
       "5596                                     KR:South Korea  2017-07-21   \n",
       "5892  KR:South Korea,HK:Hong Kong ,SG:Singapore ,ES:...  2017-04-17   \n",
       "6111  US:United States,CA:Canada ,LT:Lithuania ,IN:I...  2017-02-02   \n",
       "6329  GB:United Kingdom,AU:Australia ,IS:Iceland ,IN...  2016-12-01   \n",
       "6866  LT:Lithuania ,PL:Poland ,FR:France ,IS:Iceland...  2016-06-01   \n",
       "7105       AR:Argentina,BR:Brazil,CO:Colombia,MX:Mexico  2016-01-13   \n",
       "7288                                     KR:South Korea  2015-11-06   \n",
       "7770  US:United States,MX:Mexico ,AR:Argentina ,CA:C...  2015-05-01   \n",
       "7894  US:United States,GB:United Kingdom,IN:India ,R...  2015-04-14   \n",
       "213   US:United States,AR:Argentina,BR:Brazil,CO:Col...  2015-04-14   \n",
       "237                                         SK:Slovakia  2015-04-14   \n",
       "260                                          DE:Germany  2015-04-14   \n",
       "308                                           CA:Canada  2015-04-14   \n",
       "312                         CZ:Czech Republic,SE:Sweden  2015-04-14   \n",
       "313                         CZ:Czech Republic,SE:Sweden  2015-04-14   \n",
       "322                                          DE:Germany  2015-04-14   \n",
       "417                                   CZ:Czech Republic  2015-04-14   \n",
       "507                                      KR:South Korea  2015-04-14   \n",
       "598                                        AU:Australia  2015-04-14   \n",
       "1157     IS:Iceland,LT:Lithuania,PT:Portugal,RO:Romania  2015-04-14   \n",
       "1178  NL:Netherlands,IS:Iceland,LT:Lithuania,PT:Port...  2015-04-14   \n",
       "1223       GR:Greece,IS:Iceland,LT:Lithuania,RO:Romania  2015-04-14   \n",
       "1485  US:United States,MX:Mexico ,AR:Argentina ,CA:C...  2015-04-14   \n",
       "\n",
       "     imdb_rating          genre  \n",
       "174          6.7  Uncategorized  \n",
       "985          3.2  Uncategorized  \n",
       "1580        None  Uncategorized  \n",
       "1581         8.3  Uncategorized  \n",
       "1597         5.8  Uncategorized  \n",
       "2219        None  Uncategorized  \n",
       "2907         6.7  Uncategorized  \n",
       "3041         6.4  Uncategorized  \n",
       "3112         6.1  Uncategorized  \n",
       "4264        None  Uncategorized  \n",
       "6368         6.7  Uncategorized  \n",
       "7725         5.1  Uncategorized  \n",
       "1711         7.4  Uncategorized  \n",
       "3243        None  Uncategorized  \n",
       "3614         5.6  Uncategorized  \n",
       "3663         5.9  Uncategorized  \n",
       "3814         5.4  Uncategorized  \n",
       "4209         4.7  Uncategorized  \n",
       "4458        None  Uncategorized  \n",
       "4473         3.3  Uncategorized  \n",
       "4858         5.9  Uncategorized  \n",
       "5472         6.3  Uncategorized  \n",
       "5596           8  Uncategorized  \n",
       "5892         6.6  Uncategorized  \n",
       "6111        None  Uncategorized  \n",
       "6329         6.8  Uncategorized  \n",
       "6866         6.9  Uncategorized  \n",
       "7105         6.4  Uncategorized  \n",
       "7288         6.9  Uncategorized  \n",
       "7770         5.2  Uncategorized  \n",
       "7894         8.4  Uncategorized  \n",
       "213          6.8  Uncategorized  \n",
       "237          7.1  Uncategorized  \n",
       "260          6.4  Uncategorized  \n",
       "308          5.7  Uncategorized  \n",
       "312          5.5  Uncategorized  \n",
       "313          5.4  Uncategorized  \n",
       "322          6.7  Uncategorized  \n",
       "417          4.5  Uncategorized  \n",
       "507          7.3  Uncategorized  \n",
       "598          7.3  Uncategorized  \n",
       "1157         5.1  Uncategorized  \n",
       "1178           6  Uncategorized  \n",
       "1223           7  Uncategorized  \n",
       "1485         8.2  Uncategorized  "
      ]
     },
     "execution_count": 25,
     "metadata": {},
     "output_type": "execute_result"
    }
   ],
   "source": [
    "df[df[\"genre\"] == \"Uncategorized\"]"
   ]
  },
  {
   "cell_type": "code",
   "execution_count": 26,
   "metadata": {},
   "outputs": [
    {
     "data": {
      "text/plain": [
       "(17850, 12)"
      ]
     },
     "execution_count": 26,
     "metadata": {},
     "output_type": "execute_result"
    }
   ],
   "source": [
    "df.shape"
   ]
  },
  {
   "cell_type": "code",
   "execution_count": 28,
   "metadata": {},
   "outputs": [],
   "source": [
    "df.reset_index(drop=True, inplace=True)"
   ]
  },
  {
   "cell_type": "code",
   "execution_count": 32,
   "metadata": {},
   "outputs": [],
   "source": [
    "df.to_pickle(\"netflix-complete-data-w-genre.pickle\")"
   ]
  },
  {
   "cell_type": "code",
   "execution_count": null,
   "metadata": {},
   "outputs": [],
   "source": []
  }
 ],
 "metadata": {
  "kernelspec": {
   "display_name": "flix-viz",
   "language": "python",
   "name": "python3"
  },
  "language_info": {
   "codemirror_mode": {
    "name": "ipython",
    "version": 3
   },
   "file_extension": ".py",
   "mimetype": "text/x-python",
   "name": "python",
   "nbconvert_exporter": "python",
   "pygments_lexer": "ipython3",
   "version": "3.10.6"
  },
  "orig_nbformat": 4,
  "vscode": {
   "interpreter": {
    "hash": "3d0947f9e211735c4d89644008ee0f5330dae3b2c3f75565e59d186ea6626b6b"
   }
  }
 },
 "nbformat": 4,
 "nbformat_minor": 2
}
