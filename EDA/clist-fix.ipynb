{
 "cells": [
  {
   "cell_type": "code",
   "execution_count": 1,
   "metadata": {},
   "outputs": [],
   "source": [
    "from bs4 import BeautifulSoup\n",
    "import pandas as pd\n",
    "import numpy as np\n",
    "import requests\n",
    "import yaml"
   ]
  },
  {
   "cell_type": "code",
   "execution_count": 2,
   "metadata": {},
   "outputs": [],
   "source": [
    "with open(\"../api_constants.yaml\") as f:\n",
    "    api_constants = yaml.load(f, Loader=yaml.FullLoader)\n",
    "\n",
    "rapidapi = api_constants[\"RapidAPI\"]"
   ]
  },
  {
   "cell_type": "code",
   "execution_count": 3,
   "metadata": {},
   "outputs": [],
   "source": [
    "df = pd.read_pickle(\"../Data/netflix-pull-wo-clist.pickle\")"
   ]
  },
  {
   "cell_type": "code",
   "execution_count": 4,
   "metadata": {},
   "outputs": [
    {
     "data": {
      "text/plain": [
       "Index(['id', 'title', 'img', 'vtype', 'nfid', 'synopsis', 'year', 'imdbid',\n",
       "       'clist', 'titledate', 'imdb_rating'],\n",
       "      dtype='object')"
      ]
     },
     "execution_count": 4,
     "metadata": {},
     "output_type": "execute_result"
    }
   ],
   "source": [
    "df.columns"
   ]
  },
  {
   "cell_type": "code",
   "execution_count": 5,
   "metadata": {},
   "outputs": [],
   "source": [
    "more_titles = df.loc[df[\"clist\"].str.contains(\"more\", case=False)]"
   ]
  },
  {
   "cell_type": "code",
   "execution_count": 6,
   "metadata": {},
   "outputs": [
    {
     "data": {
      "text/plain": [
       "(7860, 11)"
      ]
     },
     "execution_count": 6,
     "metadata": {},
     "output_type": "execute_result"
    }
   ],
   "source": [
    "more_titles.shape"
   ]
  },
  {
   "attachments": {},
   "cell_type": "markdown",
   "metadata": {},
   "source": [
    "### 7860 calls to API would require about 79 days - need to buy the API"
   ]
  },
  {
   "attachments": {},
   "cell_type": "markdown",
   "metadata": {},
   "source": [
    "## Getting Country Code Mappings"
   ]
  },
  {
   "cell_type": "code",
   "execution_count": 7,
   "metadata": {},
   "outputs": [],
   "source": [
    "country_df = pd.read_pickle(\"../Data/country_data.pickle\")"
   ]
  },
  {
   "cell_type": "code",
   "execution_count": 8,
   "metadata": {},
   "outputs": [
    {
     "data": {
      "text/html": [
       "<div>\n",
       "<style scoped>\n",
       "    .dataframe tbody tr th:only-of-type {\n",
       "        vertical-align: middle;\n",
       "    }\n",
       "\n",
       "    .dataframe tbody tr th {\n",
       "        vertical-align: top;\n",
       "    }\n",
       "\n",
       "    .dataframe thead th {\n",
       "        text-align: right;\n",
       "    }\n",
       "</style>\n",
       "<table border=\"1\" class=\"dataframe\">\n",
       "  <thead>\n",
       "    <tr style=\"text-align: right;\">\n",
       "      <th></th>\n",
       "      <th>id</th>\n",
       "      <th>country</th>\n",
       "      <th>countrycode</th>\n",
       "      <th>tvids</th>\n",
       "      <th>tseries</th>\n",
       "      <th>tmovs</th>\n",
       "    </tr>\n",
       "  </thead>\n",
       "  <tbody>\n",
       "    <tr>\n",
       "      <th>0</th>\n",
       "      <td>21</td>\n",
       "      <td>Argentina</td>\n",
       "      <td>AR</td>\n",
       "      <td>6188</td>\n",
       "      <td>2248</td>\n",
       "      <td>3940</td>\n",
       "    </tr>\n",
       "    <tr>\n",
       "      <th>1</th>\n",
       "      <td>23</td>\n",
       "      <td>Australia</td>\n",
       "      <td>AU</td>\n",
       "      <td>6266</td>\n",
       "      <td>2370</td>\n",
       "      <td>3896</td>\n",
       "    </tr>\n",
       "    <tr>\n",
       "      <th>2</th>\n",
       "      <td>26</td>\n",
       "      <td>Belgium</td>\n",
       "      <td>BE</td>\n",
       "      <td>6544</td>\n",
       "      <td>2317</td>\n",
       "      <td>4227</td>\n",
       "    </tr>\n",
       "    <tr>\n",
       "      <th>3</th>\n",
       "      <td>29</td>\n",
       "      <td>Brazil</td>\n",
       "      <td>BR</td>\n",
       "      <td>6323</td>\n",
       "      <td>2246</td>\n",
       "      <td>4077</td>\n",
       "    </tr>\n",
       "    <tr>\n",
       "      <th>4</th>\n",
       "      <td>33</td>\n",
       "      <td>Canada</td>\n",
       "      <td>CA</td>\n",
       "      <td>6165</td>\n",
       "      <td>2281</td>\n",
       "      <td>3884</td>\n",
       "    </tr>\n",
       "  </tbody>\n",
       "</table>\n",
       "</div>"
      ],
      "text/plain": [
       "   id     country countrycode  tvids  tseries  tmovs\n",
       "0  21  Argentina           AR   6188     2248   3940\n",
       "1  23  Australia           AU   6266     2370   3896\n",
       "2  26    Belgium           BE   6544     2317   4227\n",
       "3  29     Brazil           BR   6323     2246   4077\n",
       "4  33     Canada           CA   6165     2281   3884"
      ]
     },
     "execution_count": 8,
     "metadata": {},
     "output_type": "execute_result"
    }
   ],
   "source": [
    "country_df.head()"
   ]
  },
  {
   "cell_type": "code",
   "execution_count": 9,
   "metadata": {},
   "outputs": [],
   "source": [
    "def pull(nfid):\n",
    "    endpoint = \"titlecountries\"\n",
    "    url = rapidapi[\"URL\"] + endpoint\n",
    "    querystring = {\"netflixid\":str(nfid)}\n",
    "    headers = {\n",
    "        \"X-RapidAPI-Key\": rapidapi[\"RapidAPI-JEFF-KEY\"],\n",
    "        \"X-RapidAPI-Host\": rapidapi[\"RapidAPI-Host\"],\n",
    "    }\n",
    "    response = requests.request(\"GET\", url, headers=headers, params=querystring)\n",
    "    return response"
   ]
  },
  {
   "cell_type": "code",
   "execution_count": 13,
   "metadata": {},
   "outputs": [],
   "source": [
    "cols = ['nfid', 'cc', 'country', 'seasdet', 'expiredate', 'newdate', 'audio', 'subtitle', 'hd', 'uhd', '3d']\n",
    "res_df = pd.DataFrame(columns=cols)"
   ]
  },
  {
   "cell_type": "code",
   "execution_count": 14,
   "metadata": {},
   "outputs": [
    {
     "name": "stderr",
     "output_type": "stream",
     "text": [
      "100%|██████████| 7860/7860 [59:35<00:00,  2.20it/s]  \n"
     ]
    }
   ],
   "source": [
    "from tqdm import tqdm\n",
    "\n",
    "nfids = more_titles.nfid\n",
    "for nfid in tqdm(nfids):\n",
    "    data = pull(nfid).json()[\"results\"]\n",
    "    temp_df = pd.DataFrame(data)\n",
    "    temp_df.insert(0, \"nfid\", nfid)\n",
    "    res_df = pd.concat([res_df, temp_df])\n",
    "res_df.set_index(\"nfid\", inplace=True)"
   ]
  },
  {
   "cell_type": "code",
   "execution_count": 15,
   "metadata": {},
   "outputs": [],
   "source": [
    "res_df.to_pickle(\"nfid_country_partial.pickle\")"
   ]
  },
  {
   "attachments": {},
   "cell_type": "markdown",
   "metadata": {},
   "source": [
    "## Add Country Info to Main DF"
   ]
  },
  {
   "cell_type": "code",
   "execution_count": 10,
   "metadata": {},
   "outputs": [],
   "source": [
    "res_df = pd.read_pickle(\"nfid_country_partial.pickle\")"
   ]
  },
  {
   "cell_type": "code",
   "execution_count": 11,
   "metadata": {},
   "outputs": [],
   "source": [
    "def add_country_data(row):\n",
    "    nfid = row[\"nfid\"]\n",
    "    cinfo_nfid = res_df.loc[nfid]\n",
    "    clist = []\n",
    "    for cc, country in zip(cinfo_nfid[\"cc\"], cinfo_nfid[\"country\"]):\n",
    "        clist.append(f\"{cc}:{country}\")\n",
    "    \n",
    "    return \",\".join(clist)\n",
    "    \n",
    "    "
   ]
  },
  {
   "cell_type": "code",
   "execution_count": 12,
   "metadata": {},
   "outputs": [
    {
     "name": "stderr",
     "output_type": "stream",
     "text": [
      "100%|██████████| 17850/17850 [00:01<00:00, 15747.38it/s]\n"
     ]
    }
   ],
   "source": [
    "from tqdm import tqdm\n",
    "tqdm.pandas()\n",
    "\n",
    "df[\"clist\"] = df.progress_apply(lambda row: add_country_data(row) if \"more\" in row[\"clist\"] else row[\"clist\"], axis=1)"
   ]
  },
  {
   "cell_type": "code",
   "execution_count": 13,
   "metadata": {},
   "outputs": [
    {
     "data": {
      "text/plain": [
       "0                                            \"JP\":\"Japan\"\n",
       "1                                            \"JP\":\"Japan\"\n",
       "2       \"US\":\"United States\",\"AU\":\"Australia\",\"BR\":\"Br...\n",
       "3       \"US\":\"United States\",\"AU\":\"Australia\",\"BR\":\"Br...\n",
       "4                                      \"NL\":\"Netherlands\"\n",
       "                              ...                        \n",
       "1846    KR:South Korea,IT:Italy ,MY:Malaysia ,MX:Mexic...\n",
       "1847                                \"GB\":\"United Kingdom\"\n",
       "1848                                 \"US\":\"United States\"\n",
       "1849    CH:Switzerland ,IN:India ,BR:Brazil ,MX:Mexico...\n",
       "1850    \"CA\":\"Canada\",\"FR\":\"France\",\"GB\":\"United Kingdom\"\n",
       "Name: clist, Length: 17850, dtype: object"
      ]
     },
     "execution_count": 13,
     "metadata": {},
     "output_type": "execute_result"
    }
   ],
   "source": [
    "df.clist"
   ]
  },
  {
   "cell_type": "code",
   "execution_count": 14,
   "metadata": {},
   "outputs": [
    {
     "data": {
      "text/plain": [
       "(0, 11)"
      ]
     },
     "execution_count": 14,
     "metadata": {},
     "output_type": "execute_result"
    }
   ],
   "source": [
    "df.loc[df[\"clist\"].str.contains(\"more\", case=False)].shape"
   ]
  },
  {
   "cell_type": "code",
   "execution_count": 15,
   "metadata": {},
   "outputs": [],
   "source": [
    "df[\"clist\"] = df[\"clist\"].apply(lambda x: x.replace('\"', ''))"
   ]
  },
  {
   "cell_type": "code",
   "execution_count": 18,
   "metadata": {},
   "outputs": [],
   "source": [
    "df.to_pickle(\"netflix-data-complete.pickle\")"
   ]
  },
  {
   "cell_type": "code",
   "execution_count": null,
   "metadata": {},
   "outputs": [],
   "source": []
  }
 ],
 "metadata": {
  "kernelspec": {
   "display_name": "flix-viz",
   "language": "python",
   "name": "python3"
  },
  "language_info": {
   "codemirror_mode": {
    "name": "ipython",
    "version": 3
   },
   "file_extension": ".py",
   "mimetype": "text/x-python",
   "name": "python",
   "nbconvert_exporter": "python",
   "pygments_lexer": "ipython3",
   "version": "3.10.6 (v3.10.6:9c7b4bd164, Aug  1 2022, 17:13:48) [Clang 13.0.0 (clang-1300.0.29.30)]"
  },
  "orig_nbformat": 4,
  "vscode": {
   "interpreter": {
    "hash": "3d0947f9e211735c4d89644008ee0f5330dae3b2c3f75565e59d186ea6626b6b"
   }
  }
 },
 "nbformat": 4,
 "nbformat_minor": 2
}
