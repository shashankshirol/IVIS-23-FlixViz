{
 "cells": [
  {
   "cell_type": "code",
   "execution_count": 1,
   "metadata": {},
   "outputs": [],
   "source": [
    "from bs4 import BeautifulSoup\n",
    "import pandas as pd\n",
    "import numpy as np\n",
    "import requests\n",
    "import yaml"
   ]
  },
  {
   "cell_type": "code",
   "execution_count": 2,
   "metadata": {},
   "outputs": [],
   "source": [
    "df1 = pd.read_pickle(\"interm_0-8000_imdb-using-quote.pickle\")\n",
    "df2 = pd.read_pickle(\"interm_8000-16000_imdb-using-quote.pickle\")\n",
    "df3 = pd.read_pickle(\"interm_16000-end_imdb-using-quote.pickle\")"
   ]
  },
  {
   "cell_type": "code",
   "execution_count": 3,
   "metadata": {},
   "outputs": [],
   "source": [
    "result_df = pd.concat([df1, df2, df3])"
   ]
  },
  {
   "cell_type": "code",
   "execution_count": 4,
   "metadata": {},
   "outputs": [],
   "source": [
    "def get_imdb_ratings(row):\n",
    "    try:\n",
    "        page = requests.get(f\"https://www.imdb.com/title/{row['imdbid']}/ratings\")\n",
    "        soup = BeautifulSoup(page.content, \"html.parser\")\n",
    "        return soup.find_all(\"span\", attrs={\"class\":\"ipl-rating-star__rating\"})[0].text\n",
    "    except:\n",
    "        return None\n"
   ]
  },
  {
   "cell_type": "code",
   "execution_count": 5,
   "metadata": {},
   "outputs": [
    {
     "name": "stderr",
     "output_type": "stream",
     "text": [
      "100%|██████████| 17851/17851 [4:07:27<00:00,  1.20it/s]  \n"
     ]
    }
   ],
   "source": [
    "from tqdm import tqdm\n",
    "tqdm.pandas()\n",
    "\n",
    "result_df[\"imdb_rating\"] = result_df.progress_apply(lambda row: get_imdb_ratings(row), axis=1)"
   ]
  },
  {
   "cell_type": "code",
   "execution_count": 16,
   "metadata": {},
   "outputs": [
    {
     "data": {
      "text/plain": [
       "tt7131622     11\n",
       "tt25178176    11\n",
       "tt5607970     10\n",
       "tt18376122     6\n",
       "tt3581920      6\n",
       "              ..\n",
       "tt11656548     2\n",
       "tt10801196     2\n",
       "tt5719748      2\n",
       "tt13273728     2\n",
       "tt21971750     2\n",
       "Name: imdbid, Length: 500, dtype: int64"
      ]
     },
     "execution_count": 16,
     "metadata": {},
     "output_type": "execute_result"
    }
   ],
   "source": [
    "temp = result_df.imdbid.value_counts()\n",
    "temp[temp>1]"
   ]
  },
  {
   "cell_type": "code",
   "execution_count": 23,
   "metadata": {},
   "outputs": [],
   "source": [
    "result_df.to_pickle(\"netflix-pull-wo-clist.pickle\")"
   ]
  },
  {
   "cell_type": "code",
   "execution_count": null,
   "metadata": {},
   "outputs": [],
   "source": []
  }
 ],
 "metadata": {
  "kernelspec": {
   "display_name": "flix-viz",
   "language": "python",
   "name": "python3"
  },
  "language_info": {
   "codemirror_mode": {
    "name": "ipython",
    "version": 3
   },
   "file_extension": ".py",
   "mimetype": "text/x-python",
   "name": "python",
   "nbconvert_exporter": "python",
   "pygments_lexer": "ipython3",
   "version": "3.10.6 (v3.10.6:9c7b4bd164, Aug  1 2022, 17:13:48) [Clang 13.0.0 (clang-1300.0.29.30)]"
  },
  "orig_nbformat": 4,
  "vscode": {
   "interpreter": {
    "hash": "3d0947f9e211735c4d89644008ee0f5330dae3b2c3f75565e59d186ea6626b6b"
   }
  }
 },
 "nbformat": 4,
 "nbformat_minor": 2
}
