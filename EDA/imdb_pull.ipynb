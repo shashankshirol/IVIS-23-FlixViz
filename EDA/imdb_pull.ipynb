{
 "cells": [
  {
   "cell_type": "code",
   "execution_count": 1,
   "metadata": {},
   "outputs": [],
   "source": [
    "import pandas as pd\n",
    "import numpy as np\n",
    "import yaml"
   ]
  },
  {
   "cell_type": "code",
   "execution_count": 2,
   "metadata": {},
   "outputs": [],
   "source": [
    "df = pd.read_pickle(\"../Data/netflix-complete.pickle\")"
   ]
  },
  {
   "cell_type": "code",
   "execution_count": 3,
   "metadata": {},
   "outputs": [],
   "source": [
    "import requests\n",
    "\n",
    "url = \"https://movie-database-alternative.p.rapidapi.com/\"\n",
    "\n",
    "headers = {\n",
    "\t\"X-RapidAPI-Key\": \"e8627fd873msh7a38a0dac6fe673p163bf7jsn57837257ac2e\",\n",
    "\t\"X-RapidAPI-Host\": \"movie-database-alternative.p.rapidapi.com\"\n",
    "}"
   ]
  },
  {
   "cell_type": "code",
   "execution_count": 4,
   "metadata": {},
   "outputs": [],
   "source": [
    "def pull(row):\n",
    "    imdb_ids = []\n",
    "    querystring = {\n",
    "        \"s\":row[\"title\"],\n",
    "        \"r\":\"json\",\n",
    "        \"type\":row[\"vtype\"],\n",
    "        \"y\":row[\"year\"]\n",
    "        }\n",
    "    try:\n",
    "        response = requests.request(\"GET\", url, headers=headers, params=querystring).json()[\"Search\"]\n",
    "        for result in response:\n",
    "            if result[\"Title\"].casefold() == row[\"title\"].casefold() and int(result[\"Year\"]) == row[\"year\"] and result[\"Type\"] == row[\"vtype\"]:\n",
    "                imdb_ids.append(result[\"imdbID\"])\n",
    "        return \" | \".join(imdb_ids).strip()\n",
    "    except:\n",
    "        return None\n"
   ]
  },
  {
   "cell_type": "code",
   "execution_count": 5,
   "metadata": {},
   "outputs": [
    {
     "name": "stderr",
     "output_type": "stream",
     "text": [
      "100%|██████████| 17850/17850 [2:27:35<00:00,  2.02it/s]  \n"
     ]
    }
   ],
   "source": [
    "from tqdm import tqdm\n",
    "tqdm.pandas()\n",
    "\n",
    "df[\"imdbid\"] = df.progress_apply(lambda row: pull(row), axis=1)"
   ]
  },
  {
   "cell_type": "code",
   "execution_count": 9,
   "metadata": {},
   "outputs": [
    {
     "data": {
      "text/html": [
       "<div>\n",
       "<style scoped>\n",
       "    .dataframe tbody tr th:only-of-type {\n",
       "        vertical-align: middle;\n",
       "    }\n",
       "\n",
       "    .dataframe tbody tr th {\n",
       "        vertical-align: top;\n",
       "    }\n",
       "\n",
       "    .dataframe thead th {\n",
       "        text-align: right;\n",
       "    }\n",
       "</style>\n",
       "<table border=\"1\" class=\"dataframe\">\n",
       "  <thead>\n",
       "    <tr style=\"text-align: right;\">\n",
       "      <th></th>\n",
       "      <th>id</th>\n",
       "      <th>title</th>\n",
       "      <th>img</th>\n",
       "      <th>vtype</th>\n",
       "      <th>nfid</th>\n",
       "      <th>synopsis</th>\n",
       "      <th>year</th>\n",
       "      <th>imdbid</th>\n",
       "      <th>clist</th>\n",
       "      <th>titledate</th>\n",
       "      <th>imdb_rating</th>\n",
       "      <th>genre</th>\n",
       "      <th>votes</th>\n",
       "    </tr>\n",
       "  </thead>\n",
       "  <tbody>\n",
       "    <tr>\n",
       "      <th>5469</th>\n",
       "      <td>73580</td>\n",
       "      <td>King of Boys: The Return of the King</td>\n",
       "      <td>https://occ-0-3607-1432.1.nflxso.net/dnm/api/v...</td>\n",
       "      <td>series</td>\n",
       "      <td>81342973</td>\n",
       "      <td>Alhaja Eniola Salami starts anew and sets her ...</td>\n",
       "      <td>2021</td>\n",
       "      <td>tt15192042</td>\n",
       "      <td>LT:Lithuania ,PL:Poland ,FR:France ,IS:Iceland...</td>\n",
       "      <td>2021-08-28</td>\n",
       "      <td>9</td>\n",
       "      <td>TV Dramas | Political TV Shows | Crime TV Show...</td>\n",
       "      <td>1860957</td>\n",
       "    </tr>\n",
       "  </tbody>\n",
       "</table>\n",
       "</div>"
      ],
      "text/plain": [
       "         id                                 title  \\\n",
       "5469  73580  King of Boys: The Return of the King   \n",
       "\n",
       "                                                    img   vtype      nfid  \\\n",
       "5469  https://occ-0-3607-1432.1.nflxso.net/dnm/api/v...  series  81342973   \n",
       "\n",
       "                                               synopsis  year      imdbid  \\\n",
       "5469  Alhaja Eniola Salami starts anew and sets her ...  2021  tt15192042   \n",
       "\n",
       "                                                  clist   titledate  \\\n",
       "5469  LT:Lithuania ,PL:Poland ,FR:France ,IS:Iceland...  2021-08-28   \n",
       "\n",
       "     imdb_rating                                              genre    votes  \n",
       "5469           9  TV Dramas | Political TV Shows | Crime TV Show...  1860957  "
      ]
     },
     "execution_count": 9,
     "metadata": {},
     "output_type": "execute_result"
    }
   ],
   "source": [
    "df[df[\"title\"] == \"King of Boys: The Return of the King\"]"
   ]
  },
  {
   "cell_type": "code",
   "execution_count": 11,
   "metadata": {},
   "outputs": [],
   "source": [
    "from bs4 import BeautifulSoup\n",
    "def get_imdb_ratings(row):\n",
    "    try:\n",
    "        page = requests.get(f\"https://www.imdb.com/title/{row['imdbid'].strip()}/ratings\")\n",
    "        soup = BeautifulSoup(page.content, \"html.parser\")\n",
    "        return soup.find_all(\"span\", attrs={\"class\":\"ipl-rating-star__rating\"})[0].text\n",
    "    except:\n",
    "        return None"
   ]
  },
  {
   "cell_type": "code",
   "execution_count": 14,
   "metadata": {},
   "outputs": [
    {
     "name": "stderr",
     "output_type": "stream",
     "text": [
      "100%|██████████| 17850/17850 [2:26:26<00:00,  2.03it/s]  \n"
     ]
    }
   ],
   "source": [
    "from tqdm import tqdm\n",
    "tqdm.pandas()\n",
    "\n",
    "df[\"imdb_rating\"] = df.progress_apply(lambda row: get_imdb_ratings(row), axis=1)"
   ]
  },
  {
   "cell_type": "code",
   "execution_count": 17,
   "metadata": {},
   "outputs": [],
   "source": [
    "def get_votes(row):\n",
    "    imdbid = row[\"imdbid\"]\n",
    "    page = requests.get(f\"https://www.imdb.com/title/{imdbid}/ratings\")\n",
    "    soup = BeautifulSoup(page.content, \"html.parser\")\n",
    "    try:\n",
    "        st = soup.find_all(\"div\", attrs={\"class\":\"allText\"})[0].text.strip()\n",
    "        st_lower = st[:st.find(\"IMDb\")].strip().replace(\",\", \"\")\n",
    "        return int(st_lower)\n",
    "    except:\n",
    "        return 0"
   ]
  },
  {
   "cell_type": "code",
   "execution_count": 18,
   "metadata": {},
   "outputs": [
    {
     "name": "stderr",
     "output_type": "stream",
     "text": [
      "100%|██████████| 17850/17850 [2:45:09<00:00,  1.80it/s]  \n"
     ]
    }
   ],
   "source": [
    "from tqdm import tqdm\n",
    "tqdm.pandas()\n",
    "\n",
    "df[\"votes\"] = df.progress_apply(lambda row: get_votes(row), axis=1)"
   ]
  },
  {
   "cell_type": "code",
   "execution_count": 19,
   "metadata": {},
   "outputs": [],
   "source": [
    "df.to_pickle(\"new_netflix_complete.pickle\")"
   ]
  },
  {
   "cell_type": "code",
   "execution_count": 21,
   "metadata": {},
   "outputs": [
    {
     "data": {
      "text/html": [
       "<div>\n",
       "<style scoped>\n",
       "    .dataframe tbody tr th:only-of-type {\n",
       "        vertical-align: middle;\n",
       "    }\n",
       "\n",
       "    .dataframe tbody tr th {\n",
       "        vertical-align: top;\n",
       "    }\n",
       "\n",
       "    .dataframe thead th {\n",
       "        text-align: right;\n",
       "    }\n",
       "</style>\n",
       "<table border=\"1\" class=\"dataframe\">\n",
       "  <thead>\n",
       "    <tr style=\"text-align: right;\">\n",
       "      <th></th>\n",
       "      <th>id</th>\n",
       "      <th>title</th>\n",
       "      <th>img</th>\n",
       "      <th>vtype</th>\n",
       "      <th>nfid</th>\n",
       "      <th>synopsis</th>\n",
       "      <th>year</th>\n",
       "      <th>imdbid</th>\n",
       "      <th>clist</th>\n",
       "      <th>titledate</th>\n",
       "      <th>imdb_rating</th>\n",
       "      <th>genre</th>\n",
       "      <th>votes</th>\n",
       "    </tr>\n",
       "  </thead>\n",
       "  <tbody>\n",
       "    <tr>\n",
       "      <th>5469</th>\n",
       "      <td>73580</td>\n",
       "      <td>King of Boys: The Return of the King</td>\n",
       "      <td>https://occ-0-3607-1432.1.nflxso.net/dnm/api/v...</td>\n",
       "      <td>series</td>\n",
       "      <td>81342973</td>\n",
       "      <td>Alhaja Eniola Salami starts anew and sets her ...</td>\n",
       "      <td>2021</td>\n",
       "      <td>tt15192042</td>\n",
       "      <td>LT:Lithuania ,PL:Poland ,FR:France ,IS:Iceland...</td>\n",
       "      <td>2021-08-28</td>\n",
       "      <td>6.8</td>\n",
       "      <td>TV Dramas | Political TV Shows | Crime TV Show...</td>\n",
       "      <td>286</td>\n",
       "    </tr>\n",
       "  </tbody>\n",
       "</table>\n",
       "</div>"
      ],
      "text/plain": [
       "         id                                 title  \\\n",
       "5469  73580  King of Boys: The Return of the King   \n",
       "\n",
       "                                                    img   vtype      nfid  \\\n",
       "5469  https://occ-0-3607-1432.1.nflxso.net/dnm/api/v...  series  81342973   \n",
       "\n",
       "                                               synopsis  year      imdbid  \\\n",
       "5469  Alhaja Eniola Salami starts anew and sets her ...  2021  tt15192042   \n",
       "\n",
       "                                                  clist   titledate  \\\n",
       "5469  LT:Lithuania ,PL:Poland ,FR:France ,IS:Iceland...  2021-08-28   \n",
       "\n",
       "     imdb_rating                                              genre  votes  \n",
       "5469         6.8  TV Dramas | Political TV Shows | Crime TV Show...    286  "
      ]
     },
     "execution_count": 21,
     "metadata": {},
     "output_type": "execute_result"
    }
   ],
   "source": [
    "df[df[\"title\"] == \"King of Boys: The Return of the King\"]"
   ]
  },
  {
   "cell_type": "code",
   "execution_count": null,
   "metadata": {},
   "outputs": [],
   "source": []
  }
 ],
 "metadata": {
  "kernelspec": {
   "display_name": "flix-viz",
   "language": "python",
   "name": "python3"
  },
  "language_info": {
   "codemirror_mode": {
    "name": "ipython",
    "version": 3
   },
   "file_extension": ".py",
   "mimetype": "text/x-python",
   "name": "python",
   "nbconvert_exporter": "python",
   "pygments_lexer": "ipython3",
   "version": "3.10.6"
  },
  "orig_nbformat": 4,
  "vscode": {
   "interpreter": {
    "hash": "3d0947f9e211735c4d89644008ee0f5330dae3b2c3f75565e59d186ea6626b6b"
   }
  }
 },
 "nbformat": 4,
 "nbformat_minor": 2
}
