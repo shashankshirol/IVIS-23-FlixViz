{
 "cells": [
  {
   "cell_type": "code",
   "execution_count": 1,
   "metadata": {},
   "outputs": [],
   "source": [
    "import pandas as pd\n",
    "import numpy as np\n",
    "import yaml\n",
    "\n",
    "with open(\"../api_constants.yaml\") as f:\n",
    "    api_constants = yaml.load(f, Loader=yaml.FullLoader)\n",
    "\n",
    "imdbapi = api_constants[\"IMDBAPI\"]"
   ]
  },
  {
   "attachments": {},
   "cell_type": "markdown",
   "metadata": {},
   "source": [
    "## Populate empty IMDB IDs"
   ]
  },
  {
   "cell_type": "code",
   "execution_count": 2,
   "metadata": {},
   "outputs": [],
   "source": [
    "df = pd.read_pickle(\"interm_16000-end_titles.pickle\")"
   ]
  },
  {
   "cell_type": "code",
   "execution_count": 3,
   "metadata": {},
   "outputs": [],
   "source": [
    "import requests\n",
    "from PyMovieDb import IMDB\n",
    "import json\n",
    "imdb = IMDB()\n",
    "from difflib import SequenceMatcher\n",
    "from urllib.request import quote\n",
    "\n",
    "def update_imdb(row):\n",
    "    title = row[\"title\"]\n",
    "    year = row[\"year\"]\n",
    "    search_results = json.loads(imdb.search(quote(title), year=year))[\"results\"]\n",
    "    try:\n",
    "        return search_results[0][\"id\"]\n",
    "    except:\n",
    "        return None"
   ]
  },
  {
   "cell_type": "code",
   "execution_count": 4,
   "metadata": {},
   "outputs": [
    {
     "name": "stderr",
     "output_type": "stream",
     "text": [
      "100%|██████████| 1851/1851 [45:55<00:00,  1.49s/it] \n"
     ]
    }
   ],
   "source": [
    "from tqdm import tqdm\n",
    "tqdm.pandas()\n",
    "\n",
    "df[\"imdbid\"] = df.progress_apply(lambda row: update_imdb(row), axis=1)"
   ]
  },
  {
   "cell_type": "code",
   "execution_count": 5,
   "metadata": {},
   "outputs": [],
   "source": [
    "df.to_pickle(\"interm_16000-end_imdb-using-quote.pickle\")"
   ]
  },
  {
   "cell_type": "code",
   "execution_count": 6,
   "metadata": {},
   "outputs": [
    {
     "data": {
      "text/plain": [
       "(14, 10)"
      ]
     },
     "execution_count": 6,
     "metadata": {},
     "output_type": "execute_result"
    }
   ],
   "source": [
    "df[df[\"imdbid\"].isnull()].shape"
   ]
  },
  {
   "cell_type": "code",
   "execution_count": 7,
   "metadata": {},
   "outputs": [
    {
     "data": {
      "text/plain": [
       "tt0089880    2\n",
       "tt6950338    2\n",
       "tt1234719    2\n",
       "tt0180093    2\n",
       "tt0441773    2\n",
       "tt0993846    2\n",
       "tt1259521    2\n",
       "Name: imdbid, dtype: int64"
      ]
     },
     "execution_count": 7,
     "metadata": {},
     "output_type": "execute_result"
    }
   ],
   "source": [
    "temp = df.imdbid.value_counts()\n",
    "temp[temp>1]"
   ]
  },
  {
   "cell_type": "code",
   "execution_count": 8,
   "metadata": {},
   "outputs": [
    {
     "data": {
      "text/html": [
       "<div>\n",
       "<style scoped>\n",
       "    .dataframe tbody tr th:only-of-type {\n",
       "        vertical-align: middle;\n",
       "    }\n",
       "\n",
       "    .dataframe tbody tr th {\n",
       "        vertical-align: top;\n",
       "    }\n",
       "\n",
       "    .dataframe thead th {\n",
       "        text-align: right;\n",
       "    }\n",
       "</style>\n",
       "<table border=\"1\" class=\"dataframe\">\n",
       "  <thead>\n",
       "    <tr style=\"text-align: right;\">\n",
       "      <th></th>\n",
       "      <th>id</th>\n",
       "      <th>title</th>\n",
       "      <th>img</th>\n",
       "      <th>vtype</th>\n",
       "      <th>nfid</th>\n",
       "      <th>synopsis</th>\n",
       "      <th>year</th>\n",
       "      <th>imdbid</th>\n",
       "      <th>clist</th>\n",
       "      <th>titledate</th>\n",
       "    </tr>\n",
       "  </thead>\n",
       "  <tbody>\n",
       "    <tr>\n",
       "      <th>4680</th>\n",
       "      <td>57934</td>\n",
       "      <td>Ultimate Beastmaster Italy</td>\n",
       "      <td>https://occ-0-784-778.1.nflxso.net/dnm/api/v6/...</td>\n",
       "      <td>series</td>\n",
       "      <td>80202218</td>\n",
       "      <td>Competitors representing Italy and five other ...</td>\n",
       "      <td>2017</td>\n",
       "      <td>tt5607970</td>\n",
       "      <td>\"IT\":\"Italy\"</td>\n",
       "      <td>2018-04-18</td>\n",
       "    </tr>\n",
       "    <tr>\n",
       "      <th>5165</th>\n",
       "      <td>55852</td>\n",
       "      <td>Ultimate Beastmaster India</td>\n",
       "      <td>https://occ-0-2042-299.1.nflxso.net/dnm/api/v6...</td>\n",
       "      <td>series</td>\n",
       "      <td>80202134</td>\n",
       "      <td>Athletes from India and five other countries b...</td>\n",
       "      <td>2017</td>\n",
       "      <td>tt5607970</td>\n",
       "      <td>\"IN\":\"India\",\"MY\":\"Malaysia\"</td>\n",
       "      <td>2017-12-16</td>\n",
       "    </tr>\n",
       "    <tr>\n",
       "      <th>5166</th>\n",
       "      <td>55849</td>\n",
       "      <td>Ultimate Beastmaster China</td>\n",
       "      <td>https://occ-0-64-325.1.nflxso.net/dnm/api/v6/e...</td>\n",
       "      <td>series</td>\n",
       "      <td>80202310</td>\n",
       "      <td>Bin Gu and Qinyi Du host an intense obstacle c...</td>\n",
       "      <td>2017</td>\n",
       "      <td>tt5607970</td>\n",
       "      <td>\"HK\":\"Hong Kong\",\"SG\":\"Singapore\"</td>\n",
       "      <td>2017-12-16</td>\n",
       "    </tr>\n",
       "    <tr>\n",
       "      <th>5167</th>\n",
       "      <td>55848</td>\n",
       "      <td>Ultimate Beastmaster France</td>\n",
       "      <td>https://occ-0-768-769.1.nflxso.net/dnm/api/v6/...</td>\n",
       "      <td>series</td>\n",
       "      <td>80202234</td>\n",
       "      <td>This obstacle course series features athletes ...</td>\n",
       "      <td>2017</td>\n",
       "      <td>tt5607970</td>\n",
       "      <td>\"CA\":\"Canada\",\"FR\":\"France\",\"BE\":\"Belgium\",\"CH...</td>\n",
       "      <td>2017-12-16</td>\n",
       "    </tr>\n",
       "    <tr>\n",
       "      <th>5170</th>\n",
       "      <td>55843</td>\n",
       "      <td>Ultimate Beastmaster Spain</td>\n",
       "      <td>https://occ-0-2717-360.1.nflxso.net/dnm/api/v6...</td>\n",
       "      <td>series</td>\n",
       "      <td>80202155</td>\n",
       "      <td>Athletes from Spain and five other nations fac...</td>\n",
       "      <td>2017</td>\n",
       "      <td>tt5607970</td>\n",
       "      <td>\"ES\":\"Spain\"</td>\n",
       "      <td>2017-12-15</td>\n",
       "    </tr>\n",
       "    <tr>\n",
       "      <th>6062</th>\n",
       "      <td>51898</td>\n",
       "      <td>Ultimate Beastmaster Germany</td>\n",
       "      <td>https://occ-0-2773-2774.1.nflxso.net/dnm/api/v...</td>\n",
       "      <td>series</td>\n",
       "      <td>80155848</td>\n",
       "      <td>Top athletes from Germany and five other natio...</td>\n",
       "      <td>2017</td>\n",
       "      <td>tt5607970</td>\n",
       "      <td>\"DE\":\"Germany\",\"NL\":\"Netherlands\",\"PL\":\"Poland...</td>\n",
       "      <td>2017-02-25</td>\n",
       "    </tr>\n",
       "    <tr>\n",
       "      <th>6064</th>\n",
       "      <td>51888</td>\n",
       "      <td>Ultimate Beastmaster Japan</td>\n",
       "      <td>https://occ-0-1007-1360.1.nflxso.net/dnm/api/v...</td>\n",
       "      <td>series</td>\n",
       "      <td>80155910</td>\n",
       "      <td>Yuji Kondo and Sayaka Akimoto host this grueli...</td>\n",
       "      <td>2017</td>\n",
       "      <td>tt5607970</td>\n",
       "      <td>\"HK\":\"Hong Kong\",\"JP\":\"Japan\",\"SG\":\"Singapore\"</td>\n",
       "      <td>2017-02-24</td>\n",
       "    </tr>\n",
       "    <tr>\n",
       "      <th>6066</th>\n",
       "      <td>51885</td>\n",
       "      <td>Ultimate Beastmaster Mexico</td>\n",
       "      <td>https://occ-0-2717-360.1.nflxso.net/dnm/api/v6...</td>\n",
       "      <td>series</td>\n",
       "      <td>80156006</td>\n",
       "      <td>Competitors representing Mexico and five other...</td>\n",
       "      <td>2017</td>\n",
       "      <td>tt5607970</td>\n",
       "      <td>\"US\":\"United States\",\"AR\":\"Argentina\",\"CO\":\"Co...</td>\n",
       "      <td>2017-02-24</td>\n",
       "    </tr>\n",
       "    <tr>\n",
       "      <th>6070</th>\n",
       "      <td>51880</td>\n",
       "      <td>Ultimate Beastmaster Brasil</td>\n",
       "      <td>https://occ-0-987-116.1.nflxso.net/dnm/api/v6/...</td>\n",
       "      <td>series</td>\n",
       "      <td>80155906</td>\n",
       "      <td>Hosts Rafinha Bastos and Anderson Silva presen...</td>\n",
       "      <td>2017</td>\n",
       "      <td>tt5607970</td>\n",
       "      <td>\"BR\":\"Brazil\",\"PT\":\"Portugal\"</td>\n",
       "      <td>2017-02-24</td>\n",
       "    </tr>\n",
       "    <tr>\n",
       "      <th>6071</th>\n",
       "      <td>51879</td>\n",
       "      <td>Ultimate Beastmaster</td>\n",
       "      <td>https://occ-0-2851-38.1.nflxso.net/dnm/api/v6/...</td>\n",
       "      <td>series</td>\n",
       "      <td>80095299</td>\n",
       "      <td>Terry Crews and Charissa Thompson host this in...</td>\n",
       "      <td>2017</td>\n",
       "      <td>tt5607970</td>\n",
       "      <td>\"CA\":\"Canada\",\"FR\":\"France\",\"DE\":\"Germany\",\"NL...</td>\n",
       "      <td>2017-02-24</td>\n",
       "    </tr>\n",
       "  </tbody>\n",
       "</table>\n",
       "</div>"
      ],
      "text/plain": [
       "         id                         title  \\\n",
       "4680  57934    Ultimate Beastmaster Italy   \n",
       "5165  55852    Ultimate Beastmaster India   \n",
       "5166  55849    Ultimate Beastmaster China   \n",
       "5167  55848   Ultimate Beastmaster France   \n",
       "5170  55843    Ultimate Beastmaster Spain   \n",
       "6062  51898  Ultimate Beastmaster Germany   \n",
       "6064  51888    Ultimate Beastmaster Japan   \n",
       "6066  51885   Ultimate Beastmaster Mexico   \n",
       "6070  51880   Ultimate Beastmaster Brasil   \n",
       "6071  51879          Ultimate Beastmaster   \n",
       "\n",
       "                                                    img   vtype      nfid  \\\n",
       "4680  https://occ-0-784-778.1.nflxso.net/dnm/api/v6/...  series  80202218   \n",
       "5165  https://occ-0-2042-299.1.nflxso.net/dnm/api/v6...  series  80202134   \n",
       "5166  https://occ-0-64-325.1.nflxso.net/dnm/api/v6/e...  series  80202310   \n",
       "5167  https://occ-0-768-769.1.nflxso.net/dnm/api/v6/...  series  80202234   \n",
       "5170  https://occ-0-2717-360.1.nflxso.net/dnm/api/v6...  series  80202155   \n",
       "6062  https://occ-0-2773-2774.1.nflxso.net/dnm/api/v...  series  80155848   \n",
       "6064  https://occ-0-1007-1360.1.nflxso.net/dnm/api/v...  series  80155910   \n",
       "6066  https://occ-0-2717-360.1.nflxso.net/dnm/api/v6...  series  80156006   \n",
       "6070  https://occ-0-987-116.1.nflxso.net/dnm/api/v6/...  series  80155906   \n",
       "6071  https://occ-0-2851-38.1.nflxso.net/dnm/api/v6/...  series  80095299   \n",
       "\n",
       "                                               synopsis  year     imdbid  \\\n",
       "4680  Competitors representing Italy and five other ...  2017  tt5607970   \n",
       "5165  Athletes from India and five other countries b...  2017  tt5607970   \n",
       "5166  Bin Gu and Qinyi Du host an intense obstacle c...  2017  tt5607970   \n",
       "5167  This obstacle course series features athletes ...  2017  tt5607970   \n",
       "5170  Athletes from Spain and five other nations fac...  2017  tt5607970   \n",
       "6062  Top athletes from Germany and five other natio...  2017  tt5607970   \n",
       "6064  Yuji Kondo and Sayaka Akimoto host this grueli...  2017  tt5607970   \n",
       "6066  Competitors representing Mexico and five other...  2017  tt5607970   \n",
       "6070  Hosts Rafinha Bastos and Anderson Silva presen...  2017  tt5607970   \n",
       "6071  Terry Crews and Charissa Thompson host this in...  2017  tt5607970   \n",
       "\n",
       "                                                  clist   titledate  \n",
       "4680                                       \"IT\":\"Italy\"  2018-04-18  \n",
       "5165                       \"IN\":\"India\",\"MY\":\"Malaysia\"  2017-12-16  \n",
       "5166                  \"HK\":\"Hong Kong\",\"SG\":\"Singapore\"  2017-12-16  \n",
       "5167  \"CA\":\"Canada\",\"FR\":\"France\",\"BE\":\"Belgium\",\"CH...  2017-12-16  \n",
       "5170                                       \"ES\":\"Spain\"  2017-12-15  \n",
       "6062  \"DE\":\"Germany\",\"NL\":\"Netherlands\",\"PL\":\"Poland...  2017-02-25  \n",
       "6064     \"HK\":\"Hong Kong\",\"JP\":\"Japan\",\"SG\":\"Singapore\"  2017-02-24  \n",
       "6066  \"US\":\"United States\",\"AR\":\"Argentina\",\"CO\":\"Co...  2017-02-24  \n",
       "6070                      \"BR\":\"Brazil\",\"PT\":\"Portugal\"  2017-02-24  \n",
       "6071  \"CA\":\"Canada\",\"FR\":\"France\",\"DE\":\"Germany\",\"NL...  2017-02-24  "
      ]
     },
     "execution_count": 8,
     "metadata": {},
     "output_type": "execute_result"
    }
   ],
   "source": [
    "df[df[\"imdbid\"] == \"tt5607970\"]"
   ]
  },
  {
   "cell_type": "code",
   "execution_count": 78,
   "metadata": {},
   "outputs": [],
   "source": [
    "from PyMovieDb import IMDB\n",
    "import json\n",
    "from urllib.request import quote\n",
    "imdb = IMDB()\n",
    "search_results = json.loads(imdb.search(quote(\"Tegimpu\"), year=2023))[\"results\"]"
   ]
  },
  {
   "cell_type": "code",
   "execution_count": 79,
   "metadata": {},
   "outputs": [
    {
     "data": {
      "text/plain": [
       "[]"
      ]
     },
     "execution_count": 79,
     "metadata": {},
     "output_type": "execute_result"
    }
   ],
   "source": [
    "search_results"
   ]
  },
  {
   "cell_type": "code",
   "execution_count": 15,
   "metadata": {},
   "outputs": [],
   "source": [
    "from imdb import Cinemagoer\n",
    "\n",
    "ia = Cinemagoer()\n",
    "s = ia.search_movie(\"Meet Me in Venice\")"
   ]
  },
  {
   "cell_type": "code",
   "execution_count": 8,
   "metadata": {},
   "outputs": [],
   "source": [
    "from bs4 import BeautifulSoup\n",
    "import requests\n",
    "\n",
    "page = requests.get(\"https://www.imdb.com/title/tt4466358/ratings\")\n",
    "soup = BeautifulSoup(page.content, \"html.parser\")"
   ]
  },
  {
   "cell_type": "code",
   "execution_count": 9,
   "metadata": {},
   "outputs": [
    {
     "data": {
      "text/plain": [
       "'7.2'"
      ]
     },
     "execution_count": 9,
     "metadata": {},
     "output_type": "execute_result"
    }
   ],
   "source": [
    "soup.find_all(\"span\", attrs={\"class\":\"ipl-rating-star__rating\"})[0].text"
   ]
  },
  {
   "cell_type": "code",
   "execution_count": null,
   "metadata": {},
   "outputs": [],
   "source": []
  }
 ],
 "metadata": {
  "kernelspec": {
   "display_name": "flix-viz",
   "language": "python",
   "name": "python3"
  },
  "language_info": {
   "codemirror_mode": {
    "name": "ipython",
    "version": 3
   },
   "file_extension": ".py",
   "mimetype": "text/x-python",
   "name": "python",
   "nbconvert_exporter": "python",
   "pygments_lexer": "ipython3",
   "version": "3.10.6"
  },
  "orig_nbformat": 4,
  "vscode": {
   "interpreter": {
    "hash": "3d0947f9e211735c4d89644008ee0f5330dae3b2c3f75565e59d186ea6626b6b"
   }
  }
 },
 "nbformat": 4,
 "nbformat_minor": 2
}
