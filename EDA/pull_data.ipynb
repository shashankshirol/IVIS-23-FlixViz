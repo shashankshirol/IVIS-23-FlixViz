{
 "cells": [
  {
   "cell_type": "code",
   "execution_count": 20,
   "id": "8704cbf5-0ca5-430c-bae0-eb4f01397e63",
   "metadata": {},
   "outputs": [],
   "source": [
    "import pandas as pd\n",
    "import numpy as np\n",
    "import yaml\n",
    "\n",
    "with open(\"../api_constants.yaml\") as f:\n",
    "    api_constants = yaml.load(f, Loader=yaml.FullLoader)\n",
    "\n",
    "rapidapi = api_constants[\"RapidAPI\"]\n",
    "imdbapi = api_constants[\"IMDBAPI\"]"
   ]
  },
  {
   "cell_type": "code",
   "execution_count": null,
   "id": "d091b8c4",
   "metadata": {},
   "outputs": [],
   "source": []
  }
 ],
 "metadata": {
  "kernelspec": {
   "display_name": "flix-viz",
   "language": "python",
   "name": "python3"
  },
  "language_info": {
   "codemirror_mode": {
    "name": "ipython",
    "version": 3
   },
   "file_extension": ".py",
   "mimetype": "text/x-python",
   "name": "python",
   "nbconvert_exporter": "python",
   "pygments_lexer": "ipython3",
   "version": "3.10.6"
  },
  "vscode": {
   "interpreter": {
    "hash": "3d0947f9e211735c4d89644008ee0f5330dae3b2c3f75565e59d186ea6626b6b"
   }
  }
 },
 "nbformat": 4,
 "nbformat_minor": 5
}
